{
 "cells": [
  {
   "cell_type": "code",
   "execution_count": 126,
   "metadata": {},
   "outputs": [],
   "source": [
    "from gensim.test.utils import common_texts, get_tmpfile # get_tmpfile: save a model for us\n",
    "from gensim.models import Word2Vec\n",
    "from nltk import word_tokenize\n",
    "import pandas as pd\n",
    "import numpy as np\n",
    "import warnings\n",
    "warnings.filterwarnings('ignore')"
   ]
  },
  {
   "cell_type": "code",
   "execution_count": 127,
   "metadata": {},
   "outputs": [
    {
     "data": {
      "text/html": [
       "<div>\n",
       "<style scoped>\n",
       "    .dataframe tbody tr th:only-of-type {\n",
       "        vertical-align: middle;\n",
       "    }\n",
       "\n",
       "    .dataframe tbody tr th {\n",
       "        vertical-align: top;\n",
       "    }\n",
       "\n",
       "    .dataframe thead th {\n",
       "        text-align: right;\n",
       "    }\n",
       "</style>\n",
       "<table border=\"1\" class=\"dataframe\">\n",
       "  <thead>\n",
       "    <tr style=\"text-align: right;\">\n",
       "      <th></th>\n",
       "      <th>product_id</th>\n",
       "      <th>attribute_name</th>\n",
       "      <th>attribute_value</th>\n",
       "      <th>brand</th>\n",
       "      <th>description</th>\n",
       "      <th>details</th>\n",
       "      <th>name</th>\n",
       "    </tr>\n",
       "  </thead>\n",
       "  <tbody>\n",
       "    <tr>\n",
       "      <th>0</th>\n",
       "      <td>01DVS1SHB0MXNERKX17C3P5YXS</td>\n",
       "      <td>occasion</td>\n",
       "      <td>weekend</td>\n",
       "      <td>mansurgavriel</td>\n",
       "      <td>Mansur Gavriel's sleek mini top handle bag was...</td>\n",
       "      <td>Zip fastening across top Composition: calf lea...</td>\n",
       "      <td>Mini Leather Top Handle Bag</td>\n",
       "    </tr>\n",
       "    <tr>\n",
       "      <th>1</th>\n",
       "      <td>01DVS1SHB0MXNERKX17C3P5YXS</td>\n",
       "      <td>occasion</td>\n",
       "      <td>weekend</td>\n",
       "      <td>mansurgavriel</td>\n",
       "      <td>Mansur Gavriel's sleek mini top handle bag was...</td>\n",
       "      <td>Zip fastening across top Composition: calf lea...</td>\n",
       "      <td>Mini Leather Top Handle Bag</td>\n",
       "    </tr>\n",
       "    <tr>\n",
       "      <th>2</th>\n",
       "      <td>01DPEEZGRJYX4N4WE78GPM0B2G</td>\n",
       "      <td>occasion</td>\n",
       "      <td>weekend</td>\n",
       "      <td>jcrew</td>\n",
       "      <td>Meet your new favorite everyday ankle boot&amp;mda...</td>\n",
       "      <td>UNKNOWN_TOKEN</td>\n",
       "      <td>Sadie boots in suede</td>\n",
       "    </tr>\n",
       "    <tr>\n",
       "      <th>3</th>\n",
       "      <td>01DTJ8EMCR26JCYAWK0CYST9H7</td>\n",
       "      <td>occasion</td>\n",
       "      <td>daytonight</td>\n",
       "      <td>marni</td>\n",
       "      <td>It’s everything you want in a structured every...</td>\n",
       "      <td>UNKNOWN_TOKEN</td>\n",
       "      <td>Law Bag Shoulder Bag</td>\n",
       "    </tr>\n",
       "    <tr>\n",
       "      <th>4</th>\n",
       "      <td>01E1JKZ7CJ8A3C1PPM0QCAEDGY</td>\n",
       "      <td>occasion</td>\n",
       "      <td>work</td>\n",
       "      <td>veronicabeard</td>\n",
       "      <td>Made from the highest quality Japanese stretch...</td>\n",
       "      <td>High rise.  True to size. SIZEVALUE, SIZEVALUE...</td>\n",
       "      <td>Kate 10 Skinny Jeans</td>\n",
       "    </tr>\n",
       "  </tbody>\n",
       "</table>\n",
       "</div>"
      ],
      "text/plain": [
       "                   product_id attribute_name attribute_value          brand  \\\n",
       "0  01DVS1SHB0MXNERKX17C3P5YXS       occasion         weekend  mansurgavriel   \n",
       "1  01DVS1SHB0MXNERKX17C3P5YXS       occasion         weekend  mansurgavriel   \n",
       "2  01DPEEZGRJYX4N4WE78GPM0B2G       occasion         weekend          jcrew   \n",
       "3  01DTJ8EMCR26JCYAWK0CYST9H7       occasion      daytonight          marni   \n",
       "4  01E1JKZ7CJ8A3C1PPM0QCAEDGY       occasion            work  veronicabeard   \n",
       "\n",
       "                                         description  \\\n",
       "0  Mansur Gavriel's sleek mini top handle bag was...   \n",
       "1  Mansur Gavriel's sleek mini top handle bag was...   \n",
       "2  Meet your new favorite everyday ankle boot&mda...   \n",
       "3  It’s everything you want in a structured every...   \n",
       "4  Made from the highest quality Japanese stretch...   \n",
       "\n",
       "                                             details  \\\n",
       "0  Zip fastening across top Composition: calf lea...   \n",
       "1  Zip fastening across top Composition: calf lea...   \n",
       "2                                      UNKNOWN_TOKEN   \n",
       "3                                      UNKNOWN_TOKEN   \n",
       "4  High rise.  True to size. SIZEVALUE, SIZEVALUE...   \n",
       "\n",
       "                          name  \n",
       "0  Mini Leather Top Handle Bag  \n",
       "1  Mini Leather Top Handle Bag  \n",
       "2         Sadie boots in suede  \n",
       "3         Law Bag Shoulder Bag  \n",
       "4         Kate 10 Skinny Jeans  "
      ]
     },
     "execution_count": 127,
     "metadata": {},
     "output_type": "execute_result"
    }
   ],
   "source": [
    "data = pd.read_csv(\"occ_cleaned.csv\")\n",
    "data.head()"
   ]
  },
  {
   "cell_type": "code",
   "execution_count": 130,
   "metadata": {},
   "outputs": [],
   "source": [
    "import nltk\n",
    "from nltk.tokenize import RegexpTokenizer\n",
    "from nltk.stem import WordNetLemmatizer,PorterStemmer\n",
    "from nltk.corpus import stopwords\n",
    "import re\n",
    "lemmatizer = WordNetLemmatizer()\n",
    "stemmer = PorterStemmer() \n",
    "\n",
    "def preprocess(sentence):\n",
    "    sentence=str(sentence)\n",
    "    sentence = sentence.lower()\n",
    "    cleanr = re.compile('<.*?>')\n",
    "    cleantext = re.sub(cleanr, '', sentence)\n",
    "    rem_num = re.sub('[0-9]+', '', cleantext)\n",
    "    tokenizer = RegexpTokenizer(r'\\w+')\n",
    "    tokens = tokenizer.tokenize(rem_num)  \n",
    "    filtered_words = [w for w in tokens if len(w) > 2 if not w in stopwords.words('english')]\n",
    "    stem_words=[stemmer.stem(w) for w in filtered_words]\n",
    "    return \" \".join(stem_words)\n",
    "\n",
    "\n",
    "data['cleanText']=data['description'].map(lambda s:preprocess(s)) "
   ]
  },
  {
   "cell_type": "code",
   "execution_count": 134,
   "metadata": {},
   "outputs": [
    {
     "data": {
      "text/html": [
       "<div>\n",
       "<style scoped>\n",
       "    .dataframe tbody tr th:only-of-type {\n",
       "        vertical-align: middle;\n",
       "    }\n",
       "\n",
       "    .dataframe tbody tr th {\n",
       "        vertical-align: top;\n",
       "    }\n",
       "\n",
       "    .dataframe thead th {\n",
       "        text-align: right;\n",
       "    }\n",
       "</style>\n",
       "<table border=\"1\" class=\"dataframe\">\n",
       "  <thead>\n",
       "    <tr style=\"text-align: right;\">\n",
       "      <th></th>\n",
       "      <th>description</th>\n",
       "      <th>cleanText</th>\n",
       "    </tr>\n",
       "  </thead>\n",
       "  <tbody>\n",
       "    <tr>\n",
       "      <th>0</th>\n",
       "      <td>Mansur Gavriel's sleek mini top handle bag was crafted in Italy from soft calfskin with a crescent-shaped top. Its minimal look allows for maximum versatility making it a viable option to pair with dresses and tailored looks alike. \\r\\n</td>\n",
       "      <td>mansur gavriel sleek mini top handl bag craft itali soft calfskin crescent shape top minim look allow maximum versatil make viabl option pair dress tailor look alik</td>\n",
       "    </tr>\n",
       "    <tr>\n",
       "      <th>1</th>\n",
       "      <td>Mansur Gavriel's sleek mini top handle bag was crafted in Italy from soft calfskin with a crescent-shaped top. Its minimal look allows for maximum versatility making it a viable option to pair with dresses and tailored looks alike. \\n</td>\n",
       "      <td>mansur gavriel sleek mini top handl bag craft itali soft calfskin crescent shape top minim look allow maximum versatil make viabl option pair dress tailor look alik</td>\n",
       "    </tr>\n",
       "    <tr>\n",
       "      <th>2</th>\n",
       "      <td>Meet your new favorite everyday ankle boot&amp;mdash;now in a soft suede that goes great with fall florals, cropped denim and the ever-so-satisfying crunch of stepping on fallen leaves.</td>\n",
       "      <td>meet new favorit everyday ankl boot mdash soft sued goe great fall floral crop denim ever satisfi crunch step fallen leav</td>\n",
       "    </tr>\n",
       "    <tr>\n",
       "      <th>3</th>\n",
       "      <td>It’s everything you want in a structured everyday bag—gloriously spacious size, optional crossbody strap, convenient storage compartments (for all the things)—and then some. And that classic tri-color leather is so classic. Plus, it zips shut—so it’s especially travel/subway/and metro-friendly.Leather, brassHeight: 8.7\"; Width: 12\"; Depth: 5.9\"Made in Italy</td>\n",
       "      <td>everyth want structur everyday bag glorious spaciou size option crossbodi strap conveni storag compart thing classic tri color leather classic plu zip shut especi travel subway metro friendli leather brassheight width depth made itali</td>\n",
       "    </tr>\n",
       "    <tr>\n",
       "      <th>4</th>\n",
       "      <td>Made from the highest quality Japanese stretch denim, these high-rise skinnies boast a flattering fit and fantastic shape recovery.</td>\n",
       "      <td>made highest qualiti japanes stretch denim high rise skinni boast flatter fit fantast shape recoveri</td>\n",
       "    </tr>\n",
       "  </tbody>\n",
       "</table>\n",
       "</div>"
      ],
      "text/plain": [
       "                                                                                                                                                                                                                                                                                                                                                               description  \\\n",
       "0                                                                                                                             Mansur Gavriel's sleek mini top handle bag was crafted in Italy from soft calfskin with a crescent-shaped top. Its minimal look allows for maximum versatility making it a viable option to pair with dresses and tailored looks alike. \\r\\n   \n",
       "1                                                                                                                               Mansur Gavriel's sleek mini top handle bag was crafted in Italy from soft calfskin with a crescent-shaped top. Its minimal look allows for maximum versatility making it a viable option to pair with dresses and tailored looks alike. \\n   \n",
       "2                                                                                                                                                                                    Meet your new favorite everyday ankle boot&mdash;now in a soft suede that goes great with fall florals, cropped denim and the ever-so-satisfying crunch of stepping on fallen leaves.   \n",
       "3  It’s everything you want in a structured everyday bag—gloriously spacious size, optional crossbody strap, convenient storage compartments (for all the things)—and then some. And that classic tri-color leather is so classic. Plus, it zips shut—so it’s especially travel/subway/and metro-friendly.Leather, brassHeight: 8.7\"; Width: 12\"; Depth: 5.9\"Made in Italy   \n",
       "4                                                                                                                                                                                                                                      Made from the highest quality Japanese stretch denim, these high-rise skinnies boast a flattering fit and fantastic shape recovery.   \n",
       "\n",
       "                                                                                                                                                                                                                                    cleanText  \n",
       "0                                                                        mansur gavriel sleek mini top handl bag craft itali soft calfskin crescent shape top minim look allow maximum versatil make viabl option pair dress tailor look alik  \n",
       "1                                                                        mansur gavriel sleek mini top handl bag craft itali soft calfskin crescent shape top minim look allow maximum versatil make viabl option pair dress tailor look alik  \n",
       "2                                                                                                                   meet new favorit everyday ankl boot mdash soft sued goe great fall floral crop denim ever satisfi crunch step fallen leav  \n",
       "3  everyth want structur everyday bag glorious spaciou size option crossbodi strap conveni storag compart thing classic tri color leather classic plu zip shut especi travel subway metro friendli leather brassheight width depth made itali  \n",
       "4                                                                                                                                        made highest qualiti japanes stretch denim high rise skinni boast flatter fit fantast shape recoveri  "
      ]
     },
     "execution_count": 134,
     "metadata": {},
     "output_type": "execute_result"
    }
   ],
   "source": [
    "pd.set_option('max_colwidth', 400)\n",
    "data[['description','cleanText']].head()"
   ]
  },
  {
   "cell_type": "code",
   "execution_count": 125,
   "metadata": {},
   "outputs": [
    {
     "data": {
      "text/plain": [
       "(12988, 7)"
      ]
     },
     "execution_count": 125,
     "metadata": {},
     "output_type": "execute_result"
    }
   ],
   "source": [
    "data.shape"
   ]
  },
  {
   "cell_type": "code",
   "execution_count": 3,
   "metadata": {},
   "outputs": [
    {
     "data": {
      "text/html": [
       "<div>\n",
       "<style scoped>\n",
       "    .dataframe tbody tr th:only-of-type {\n",
       "        vertical-align: middle;\n",
       "    }\n",
       "\n",
       "    .dataframe tbody tr th {\n",
       "        vertical-align: top;\n",
       "    }\n",
       "\n",
       "    .dataframe thead th {\n",
       "        text-align: right;\n",
       "    }\n",
       "</style>\n",
       "<table border=\"1\" class=\"dataframe\">\n",
       "  <thead>\n",
       "    <tr style=\"text-align: right;\">\n",
       "      <th></th>\n",
       "      <th>product_id</th>\n",
       "      <th>attribute_name</th>\n",
       "      <th>attribute_value</th>\n",
       "      <th>brand</th>\n",
       "      <th>description</th>\n",
       "      <th>details</th>\n",
       "      <th>name</th>\n",
       "    </tr>\n",
       "  </thead>\n",
       "  <tbody>\n",
       "    <tr>\n",
       "      <th>count</th>\n",
       "      <td>12988</td>\n",
       "      <td>12988</td>\n",
       "      <td>12988</td>\n",
       "      <td>12988</td>\n",
       "      <td>12988</td>\n",
       "      <td>12988</td>\n",
       "      <td>12988</td>\n",
       "    </tr>\n",
       "    <tr>\n",
       "      <th>unique</th>\n",
       "      <td>3914</td>\n",
       "      <td>1</td>\n",
       "      <td>7</td>\n",
       "      <td>308</td>\n",
       "      <td>3518</td>\n",
       "      <td>2574</td>\n",
       "      <td>3396</td>\n",
       "    </tr>\n",
       "    <tr>\n",
       "      <th>top</th>\n",
       "      <td>01DS48V97WA6D0APP3S4ABZN2P</td>\n",
       "      <td>occasion</td>\n",
       "      <td>weekend</td>\n",
       "      <td>frame</td>\n",
       "      <td>UNKNOWN_TOKEN</td>\n",
       "      <td>UNKNOWN_TOKEN</td>\n",
       "      <td>Hunter</td>\n",
       "    </tr>\n",
       "    <tr>\n",
       "      <th>freq</th>\n",
       "      <td>20</td>\n",
       "      <td>12988</td>\n",
       "      <td>4275</td>\n",
       "      <td>1151</td>\n",
       "      <td>1166</td>\n",
       "      <td>1152</td>\n",
       "      <td>156</td>\n",
       "    </tr>\n",
       "  </tbody>\n",
       "</table>\n",
       "</div>"
      ],
      "text/plain": [
       "                        product_id attribute_name attribute_value  brand  \\\n",
       "count                        12988          12988           12988  12988   \n",
       "unique                        3914              1               7    308   \n",
       "top     01DS48V97WA6D0APP3S4ABZN2P       occasion         weekend  frame   \n",
       "freq                            20          12988            4275   1151   \n",
       "\n",
       "          description        details    name  \n",
       "count           12988          12988   12988  \n",
       "unique           3518           2574    3396  \n",
       "top     UNKNOWN_TOKEN  UNKNOWN_TOKEN  Hunter  \n",
       "freq             1166           1152     156  "
      ]
     },
     "execution_count": 3,
     "metadata": {},
     "output_type": "execute_result"
    }
   ],
   "source": [
    "data.describe()"
   ]
  },
  {
   "cell_type": "code",
   "execution_count": 4,
   "metadata": {},
   "outputs": [
    {
     "data": {
      "text/plain": [
       "array(['weekend', 'daytonight', 'work', 'vacation', 'nightout', 'workout',\n",
       "       'coldweather'], dtype=object)"
      ]
     },
     "execution_count": 4,
     "metadata": {},
     "output_type": "execute_result"
    }
   ],
   "source": [
    "data.attribute_value.unique()"
   ]
  },
  {
   "cell_type": "code",
   "execution_count": 5,
   "metadata": {},
   "outputs": [],
   "source": [
    "all_value = data.groupby('product_id')['attribute_value'].unique().reset_index()"
   ]
  },
  {
   "cell_type": "markdown",
   "metadata": {},
   "source": [
    "## label=1"
   ]
  },
  {
   "cell_type": "code",
   "execution_count": 6,
   "metadata": {},
   "outputs": [],
   "source": [
    "wkd = all_value[all_value['attribute_value'].apply(lambda x: 'weekend' in x)]\n",
    "wkd = pd.merge(wkd, data, how='left', on='product_id')\n",
    "wkd = wkd.iloc[:,3:]\n",
    "wkd.columns = ['label','brand','description','details','name']\n",
    "wkd = wkd[wkd.label=='weekend']\n",
    "wkd.drop_duplicates(inplace=True)"
   ]
  },
  {
   "cell_type": "code",
   "execution_count": 7,
   "metadata": {},
   "outputs": [],
   "source": [
    "dtn = all_value[all_value['attribute_value'].apply(lambda x: 'daytonight' in x)]\n",
    "dtn = pd.merge(dtn, data, how='left', on='product_id')\n",
    "dtn = dtn.iloc[:,3:]\n",
    "dtn.columns = ['label','brand','description','details','name']\n",
    "dtn = dtn[dtn.label=='daytonight']\n",
    "dtn.drop_duplicates(inplace=True)"
   ]
  },
  {
   "cell_type": "code",
   "execution_count": 8,
   "metadata": {},
   "outputs": [],
   "source": [
    "work = all_value[all_value['attribute_value'].apply(lambda x: 'work' in x)]\n",
    "work = pd.merge(work, data, how='left', on='product_id')\n",
    "work = work.iloc[:,3:]\n",
    "work.columns = ['label','brand','description','details','name']\n",
    "work = work[work.label=='work']\n",
    "work.drop_duplicates(inplace=True)"
   ]
  },
  {
   "cell_type": "code",
   "execution_count": 9,
   "metadata": {},
   "outputs": [],
   "source": [
    "ntot = all_value[all_value['attribute_value'].apply(lambda x: 'nightout' in x)]\n",
    "ntot = pd.merge(ntot, data, how='left', on='product_id')\n",
    "ntot = ntot.iloc[:,3:]\n",
    "ntot.columns = ['label','brand','description','details','name']\n",
    "ntot = ntot[ntot.label=='nightout']\n",
    "ntot.drop_duplicates(inplace=True)"
   ]
  },
  {
   "cell_type": "code",
   "execution_count": 10,
   "metadata": {},
   "outputs": [],
   "source": [
    "vc = all_value[all_value['attribute_value'].apply(lambda x: 'vacation' in x)]\n",
    "vc = pd.merge(vc, data, how='left', on='product_id')\n",
    "vc = vc.iloc[:,3:]\n",
    "vc.columns = ['label','brand','description','details','name']\n",
    "vc = vc[vc.label=='vacation']\n",
    "vc.drop_duplicates(inplace=True)"
   ]
  },
  {
   "cell_type": "code",
   "execution_count": 11,
   "metadata": {},
   "outputs": [],
   "source": [
    "wkot = all_value[all_value['attribute_value'].apply(lambda x: 'workout' in x)]\n",
    "wkot = pd.merge(wkot, data, how='left', on='product_id')\n",
    "wkot = wkot.iloc[:,3:]\n",
    "wkot.columns = ['label','brand','description','details','name']\n",
    "wkot = wkot[wkot.label=='workout']\n",
    "wkot.drop_duplicates(inplace=True)"
   ]
  },
  {
   "cell_type": "code",
   "execution_count": 12,
   "metadata": {},
   "outputs": [],
   "source": [
    "cw = all_value[all_value['attribute_value'].apply(lambda x: 'coldweather' in x)]\n",
    "cw = pd.merge(cw, data, how='left', on='product_id')\n",
    "cw = cw.iloc[:,3:]\n",
    "cw.columns = ['label','brand','description','details','name']\n",
    "cw = cw[cw.label=='coldweather']\n",
    "cw.drop_duplicates(inplace=True)"
   ]
  },
  {
   "cell_type": "markdown",
   "metadata": {},
   "source": [
    "## label = 0"
   ]
  },
  {
   "cell_type": "code",
   "execution_count": 13,
   "metadata": {},
   "outputs": [],
   "source": [
    "nwkd = all_value[all_value['attribute_value'].apply(lambda x: 'weekend' not in x)]\n",
    "nwkd = pd.merge(nwkd, data, how='left', on='product_id')\n",
    "nwkd = nwkd.iloc[:,3:]\n",
    "nwkd.columns = ['label','brand','description','details','name']\n",
    "nwkd['label'] = 0\n",
    "nwkd.drop_duplicates(inplace=True)"
   ]
  },
  {
   "cell_type": "code",
   "execution_count": 14,
   "metadata": {},
   "outputs": [],
   "source": [
    "ndtn = all_value[all_value['attribute_value'].apply(lambda x: 'daytonight' not in x)]\n",
    "ndtn = pd.merge(ndtn, data, how='left', on='product_id')\n",
    "ndtn = ndtn.iloc[:,3:]\n",
    "ndtn.columns = ['label','brand','description','details','name']\n",
    "ndtn['label'] = 0\n",
    "ndtn.drop_duplicates(inplace=True)"
   ]
  },
  {
   "cell_type": "code",
   "execution_count": 15,
   "metadata": {},
   "outputs": [],
   "source": [
    "nvc = all_value[all_value['attribute_value'].apply(lambda x: 'vacation' not in x)]\n",
    "nvc = pd.merge(nvc, data, how='left', on='product_id')\n",
    "nvc = nvc.iloc[:,3:]\n",
    "nvc.columns = ['label','brand','description','details','name']\n",
    "nvc['label'] = 0\n",
    "nvc.drop_duplicates(inplace=True)"
   ]
  },
  {
   "cell_type": "code",
   "execution_count": 16,
   "metadata": {},
   "outputs": [],
   "source": [
    "nwkot = all_value[all_value['attribute_value'].apply(lambda x: 'workout' not in x)]\n",
    "nwkot = pd.merge(nwkot, data, how='left', on='product_id')\n",
    "nwkot = nwkot.iloc[:,3:]\n",
    "nwkot.columns = ['label','brand','description','details','name']\n",
    "nwkot['label'] = 0\n",
    "nwkot.drop_duplicates(inplace=True)"
   ]
  },
  {
   "cell_type": "code",
   "execution_count": 17,
   "metadata": {},
   "outputs": [],
   "source": [
    "ncw = all_value[all_value['attribute_value'].apply(lambda x: 'coldweather' not in x)]\n",
    "ncw = pd.merge(ncw, data, how='left', on='product_id')\n",
    "ncw = ncw.iloc[:,3:]\n",
    "ncw.columns = ['label','brand','description','details','name']\n",
    "ncw['label'] = 0\n",
    "ncw.drop_duplicates(inplace=True)"
   ]
  },
  {
   "cell_type": "code",
   "execution_count": null,
   "metadata": {},
   "outputs": [],
   "source": []
  },
  {
   "cell_type": "code",
   "execution_count": null,
   "metadata": {},
   "outputs": [],
   "source": []
  },
  {
   "cell_type": "markdown",
   "metadata": {},
   "source": [
    "## wkd"
   ]
  },
  {
   "cell_type": "markdown",
   "metadata": {},
   "source": [
    "## description"
   ]
  },
  {
   "cell_type": "code",
   "execution_count": 95,
   "metadata": {},
   "outputs": [],
   "source": [
    "from numpy import array\n",
    "from keras.preprocessing.text import one_hot\n",
    "from keras.preprocessing.sequence import pad_sequences\n",
    "from numpy import asarray\n",
    "from numpy import zeros\n",
    "from keras.preprocessing.text import Tokenizer\n",
    "from keras.models import Sequential\n",
    "from keras.layers import Dense\n",
    "from keras.layers import Flatten\n",
    "from keras.layers import Embedding\n",
    "from keras.utils import to_categorical\n",
    "from sklearn.preprocessing import LabelEncoder\n",
    "import spacy\n",
    "import en_core_web_md\n",
    "from sklearn.model_selection import train_test_split"
   ]
  },
  {
   "cell_type": "code",
   "execution_count": 96,
   "metadata": {},
   "outputs": [],
   "source": [
    "num_1 = len(wkd['description'])\n",
    "num_0 = len(nwkd['description'])\n",
    "docs = wkd['description'].tolist() + nwkd['description'].tolist()\n",
    "labels = np.concatenate([np.ones(num_1), np.zeros(num_0)])"
   ]
  },
  {
   "cell_type": "code",
   "execution_count": 97,
   "metadata": {},
   "outputs": [],
   "source": [
    "nlp = en_core_web_md.load()\n",
    "stopwords_removed_docs = list(\n",
    "    map(lambda doc: \" \".join([token.text for token in nlp(doc) if not token.is_stop]), docs))"
   ]
  },
  {
   "cell_type": "code",
   "execution_count": 98,
   "metadata": {},
   "outputs": [],
   "source": [
    "tokenizer = Tokenizer(num_words=5000, oov_token=\"UNKNOWN_TOKEN\")\n",
    "tokenizer.fit_on_texts(stopwords_removed_docs)"
   ]
  },
  {
   "cell_type": "code",
   "execution_count": 99,
   "metadata": {},
   "outputs": [],
   "source": [
    "def integer_encode_documents(docs, tokenizer):\n",
    "    return tokenizer.texts_to_sequences(docs)\n",
    "\n",
    "# integer encode the documents\n",
    "encoded_docs = integer_encode_documents(stopwords_removed_docs, tokenizer)\n",
    "# this is a list of lists, the numbers represent the index position of that word.\n",
    "MAX_SEQUENCE_LENGTH = len(max(stopwords_removed_docs,key=len))\n",
    "padded_docs = pad_sequences(encoded_docs, maxlen=MAX_SEQUENCE_LENGTH, padding='post')"
   ]
  },
  {
   "cell_type": "code",
   "execution_count": 100,
   "metadata": {},
   "outputs": [],
   "source": [
    "encoder = LabelEncoder()\n",
    "labels = to_categorical(encoder.fit_transform(labels))"
   ]
  },
  {
   "cell_type": "code",
   "execution_count": 101,
   "metadata": {},
   "outputs": [],
   "source": [
    "X_train, X_test, y_train, y_test = train_test_split(padded_docs, labels, test_size=0.2)"
   ]
  },
  {
   "cell_type": "markdown",
   "metadata": {},
   "source": [
    "### Glove"
   ]
  },
  {
   "cell_type": "code",
   "execution_count": 102,
   "metadata": {},
   "outputs": [],
   "source": [
    "from random import randint\n",
    "from numpy import array, argmax, asarray, zeros\n",
    "from keras.models import Sequential\n",
    "from keras.layers import Dense\n",
    "from keras.layers import Embedding\n",
    "from keras import optimizers"
   ]
  },
  {
   "cell_type": "code",
   "execution_count": 103,
   "metadata": {},
   "outputs": [
    {
     "name": "stdout",
     "output_type": "stream",
     "text": [
      "Loaded 400000 word vectors.\n"
     ]
    }
   ],
   "source": [
    "def load_glove_vectors():\n",
    "    embeddings_index = {}\n",
    "    with open('glove.6B.100d.txt') as f:\n",
    "        for line in f:\n",
    "            values = line.split()\n",
    "            word = values[0]\n",
    "            coefs = asarray(values[1:], dtype='float32')\n",
    "            embeddings_index[word] = coefs\n",
    "    print('Loaded %s word vectors.' % len(embeddings_index))\n",
    "    return embeddings_index\n",
    "\n",
    "\n",
    "embeddings_index = load_glove_vectors()"
   ]
  },
  {
   "cell_type": "code",
   "execution_count": 104,
   "metadata": {},
   "outputs": [],
   "source": [
    "VOCAB_SIZE = int(len(tokenizer.word_index) * 1.1)"
   ]
  },
  {
   "cell_type": "code",
   "execution_count": 105,
   "metadata": {},
   "outputs": [
    {
     "data": {
      "text/plain": [
       "5793"
      ]
     },
     "execution_count": 105,
     "metadata": {},
     "output_type": "execute_result"
    }
   ],
   "source": [
    "len(tokenizer.word_index)"
   ]
  },
  {
   "cell_type": "code",
   "execution_count": 106,
   "metadata": {},
   "outputs": [],
   "source": [
    "embedding_matrix = zeros((VOCAB_SIZE, 100))\n",
    "for word, i in tokenizer.word_index.items():\n",
    "    embedding_vector = embeddings_index.get(word)\n",
    "    if embedding_vector is not None: # check that it is an actual word that we have embeddings for\n",
    "        embedding_matrix[i] = embedding_vector"
   ]
  },
  {
   "cell_type": "code",
   "execution_count": 107,
   "metadata": {},
   "outputs": [
    {
     "data": {
      "text/plain": [
       "(6372, 100)"
      ]
     },
     "execution_count": 107,
     "metadata": {},
     "output_type": "execute_result"
    }
   ],
   "source": [
    "embedding_matrix.shape"
   ]
  },
  {
   "cell_type": "code",
   "execution_count": 120,
   "metadata": {},
   "outputs": [],
   "source": [
    "from keras.layers.recurrent import SimpleRNN, LSTM\n",
    "from keras.layers import Flatten, Masking\n",
    "# define model\n",
    "\n",
    "def make_binary_classification_rnn_model(plot=False):\n",
    "    model = Sequential()\n",
    "    # embedding(input_dim, output_dim)\n",
    "    model.add(Embedding(VOCAB_SIZE, 100, weights=[embedding_matrix], input_length=MAX_SEQUENCE_LENGTH, trainable=False))\n",
    "    model.add(Masking(mask_value=0.0)) # masking layer, masks any words that don't have an embedding as 0s.\n",
    "    model.add(SimpleRNN(units=32, input_shape=(1, MAX_SEQUENCE_LENGTH))) # set hidden state dimensionality to 64\n",
    "    model.add(Dense(16))\n",
    "    model.add(Dense(2, activation='softmax')) # 2 nodes, prediction for positive/negative, two classes\n",
    "    \n",
    "    # Compile the model\n",
    "    model.compile(\n",
    "    optimizer='adam', loss='categorical_crossentropy', metrics=['accuracy'])\n",
    "    # summarize the model\n",
    "    model.summary()\n",
    "    \n",
    "    if plot:\n",
    "        plot_model(model, to_file='model.png', show_shapes=True)\n",
    "    return model\n",
    "\n",
    "def make_lstm_classification_model(plot=False):\n",
    "    model = Sequential()\n",
    "    model.add(Embedding(VOCAB_SIZE, 100, weights=[embedding_matrix], input_length=MAX_SEQUENCE_LENGTH, trainable=False))\n",
    "    model.add(Masking(mask_value=0.0)) # masking layer, masks any words that don't have an embedding as 0s.\n",
    "    model.add(LSTM(units=32, input_shape=(1, MAX_SEQUENCE_LENGTH), return_sequences=True))\n",
    "    #model.add(Dense(16))\n",
    "    model.add(Dense(2, activation='softmax'))\n",
    "    \n",
    "    opt = optimizers.Adam(learning_rate=0.001, beta_1=0.9, beta_2=0.999, amsgrad=False)\n",
    "    # Compile the model\n",
    "    model.compile(\n",
    "    optimizer=opt, loss='categorical_crossentropy', metrics=['accuracy'])\n",
    "    # summarize the model\n",
    "    model.summary()\n",
    "    \n",
    "    if plot:\n",
    "        plot_model(model, to_file='model.png', show_shapes=True)\n",
    "    return model"
   ]
  },
  {
   "cell_type": "code",
   "execution_count": 121,
   "metadata": {},
   "outputs": [
    {
     "name": "stdout",
     "output_type": "stream",
     "text": [
      "Model: \"sequential_12\"\n",
      "_________________________________________________________________\n",
      "Layer (type)                 Output Shape              Param #   \n",
      "=================================================================\n",
      "embedding_12 (Embedding)     (None, 862, 100)          637200    \n",
      "_________________________________________________________________\n",
      "masking_12 (Masking)         (None, 862, 100)          0         \n",
      "_________________________________________________________________\n",
      "lstm_11 (LSTM)               (None, 862, 32)           17024     \n",
      "_________________________________________________________________\n",
      "dense_17 (Dense)             (None, 862, 2)            66        \n",
      "=================================================================\n",
      "Total params: 654,290\n",
      "Trainable params: 17,090\n",
      "Non-trainable params: 637,200\n",
      "_________________________________________________________________\n"
     ]
    }
   ],
   "source": [
    "MAX_SEQUENCE_LENGTH = len(max(stopwords_removed_docs,key=len))\n",
    "model = make_lstm_classification_model()\n",
    "#model = make_binary_classification_rnn_model()"
   ]
  },
  {
   "cell_type": "code",
   "execution_count": 122,
   "metadata": {
    "scrolled": true
   },
   "outputs": [
    {
     "ename": "ValueError",
     "evalue": "Error when checking target: expected dense_17 to have 3 dimensions, but got array with shape (3189, 2)",
     "output_type": "error",
     "traceback": [
      "\u001b[0;31m---------------------------------------------------------------------------\u001b[0m",
      "\u001b[0;31mValueError\u001b[0m                                Traceback (most recent call last)",
      "\u001b[0;32m<ipython-input-122-bdf131254cda>\u001b[0m in \u001b[0;36m<module>\u001b[0;34m\u001b[0m\n\u001b[0;32m----> 1\u001b[0;31m \u001b[0mhistory\u001b[0m \u001b[0;34m=\u001b[0m \u001b[0mmodel\u001b[0m\u001b[0;34m.\u001b[0m\u001b[0mfit\u001b[0m\u001b[0;34m(\u001b[0m\u001b[0mX_train\u001b[0m\u001b[0;34m,\u001b[0m \u001b[0my_train\u001b[0m\u001b[0;34m,\u001b[0m\u001b[0mvalidation_split\u001b[0m \u001b[0;34m=\u001b[0m \u001b[0;36m0.1\u001b[0m\u001b[0;34m,\u001b[0m \u001b[0mepochs\u001b[0m\u001b[0;34m=\u001b[0m\u001b[0;36m5\u001b[0m\u001b[0;34m,\u001b[0m \u001b[0mverbose\u001b[0m\u001b[0;34m=\u001b[0m\u001b[0;36m1\u001b[0m\u001b[0;34m)\u001b[0m\u001b[0;34m\u001b[0m\u001b[0;34m\u001b[0m\u001b[0m\n\u001b[0m",
      "\u001b[0;32m/Applications/anaconda3/envs/dso570/lib/python3.7/site-packages/keras/engine/training.py\u001b[0m in \u001b[0;36mfit\u001b[0;34m(self, x, y, batch_size, epochs, verbose, callbacks, validation_split, validation_data, shuffle, class_weight, sample_weight, initial_epoch, steps_per_epoch, validation_steps, validation_freq, max_queue_size, workers, use_multiprocessing, **kwargs)\u001b[0m\n\u001b[1;32m   1152\u001b[0m             \u001b[0msample_weight\u001b[0m\u001b[0;34m=\u001b[0m\u001b[0msample_weight\u001b[0m\u001b[0;34m,\u001b[0m\u001b[0;34m\u001b[0m\u001b[0;34m\u001b[0m\u001b[0m\n\u001b[1;32m   1153\u001b[0m             \u001b[0mclass_weight\u001b[0m\u001b[0;34m=\u001b[0m\u001b[0mclass_weight\u001b[0m\u001b[0;34m,\u001b[0m\u001b[0;34m\u001b[0m\u001b[0;34m\u001b[0m\u001b[0m\n\u001b[0;32m-> 1154\u001b[0;31m             batch_size=batch_size)\n\u001b[0m\u001b[1;32m   1155\u001b[0m \u001b[0;34m\u001b[0m\u001b[0m\n\u001b[1;32m   1156\u001b[0m         \u001b[0;31m# Prepare validation data.\u001b[0m\u001b[0;34m\u001b[0m\u001b[0;34m\u001b[0m\u001b[0;34m\u001b[0m\u001b[0m\n",
      "\u001b[0;32m/Applications/anaconda3/envs/dso570/lib/python3.7/site-packages/keras/engine/training.py\u001b[0m in \u001b[0;36m_standardize_user_data\u001b[0;34m(self, x, y, sample_weight, class_weight, check_array_lengths, batch_size)\u001b[0m\n\u001b[1;32m    619\u001b[0m                 \u001b[0mfeed_output_shapes\u001b[0m\u001b[0;34m,\u001b[0m\u001b[0;34m\u001b[0m\u001b[0;34m\u001b[0m\u001b[0m\n\u001b[1;32m    620\u001b[0m                 \u001b[0mcheck_batch_axis\u001b[0m\u001b[0;34m=\u001b[0m\u001b[0;32mFalse\u001b[0m\u001b[0;34m,\u001b[0m  \u001b[0;31m# Don't enforce the batch size.\u001b[0m\u001b[0;34m\u001b[0m\u001b[0;34m\u001b[0m\u001b[0m\n\u001b[0;32m--> 621\u001b[0;31m                 exception_prefix='target')\n\u001b[0m\u001b[1;32m    622\u001b[0m \u001b[0;34m\u001b[0m\u001b[0m\n\u001b[1;32m    623\u001b[0m             \u001b[0;31m# Generate sample-wise weight values given the `sample_weight` and\u001b[0m\u001b[0;34m\u001b[0m\u001b[0;34m\u001b[0m\u001b[0;34m\u001b[0m\u001b[0m\n",
      "\u001b[0;32m/Applications/anaconda3/envs/dso570/lib/python3.7/site-packages/keras/engine/training_utils.py\u001b[0m in \u001b[0;36mstandardize_input_data\u001b[0;34m(data, names, shapes, check_batch_axis, exception_prefix)\u001b[0m\n\u001b[1;32m    133\u001b[0m                         \u001b[0;34m': expected '\u001b[0m \u001b[0;34m+\u001b[0m \u001b[0mnames\u001b[0m\u001b[0;34m[\u001b[0m\u001b[0mi\u001b[0m\u001b[0;34m]\u001b[0m \u001b[0;34m+\u001b[0m \u001b[0;34m' to have '\u001b[0m \u001b[0;34m+\u001b[0m\u001b[0;34m\u001b[0m\u001b[0;34m\u001b[0m\u001b[0m\n\u001b[1;32m    134\u001b[0m                         \u001b[0mstr\u001b[0m\u001b[0;34m(\u001b[0m\u001b[0mlen\u001b[0m\u001b[0;34m(\u001b[0m\u001b[0mshape\u001b[0m\u001b[0;34m)\u001b[0m\u001b[0;34m)\u001b[0m \u001b[0;34m+\u001b[0m \u001b[0;34m' dimensions, but got array '\u001b[0m\u001b[0;34m\u001b[0m\u001b[0;34m\u001b[0m\u001b[0m\n\u001b[0;32m--> 135\u001b[0;31m                         'with shape ' + str(data_shape))\n\u001b[0m\u001b[1;32m    136\u001b[0m                 \u001b[0;32mif\u001b[0m \u001b[0;32mnot\u001b[0m \u001b[0mcheck_batch_axis\u001b[0m\u001b[0;34m:\u001b[0m\u001b[0;34m\u001b[0m\u001b[0;34m\u001b[0m\u001b[0m\n\u001b[1;32m    137\u001b[0m                     \u001b[0mdata_shape\u001b[0m \u001b[0;34m=\u001b[0m \u001b[0mdata_shape\u001b[0m\u001b[0;34m[\u001b[0m\u001b[0;36m1\u001b[0m\u001b[0;34m:\u001b[0m\u001b[0;34m]\u001b[0m\u001b[0;34m\u001b[0m\u001b[0;34m\u001b[0m\u001b[0m\n",
      "\u001b[0;31mValueError\u001b[0m: Error when checking target: expected dense_17 to have 3 dimensions, but got array with shape (3189, 2)"
     ]
    }
   ],
   "source": [
    "history = model.fit(X_train, y_train,validation_split = 0.1, epochs=5, verbose=1)"
   ]
  },
  {
   "cell_type": "code",
   "execution_count": 119,
   "metadata": {},
   "outputs": [
    {
     "data": {
      "image/png": "[encoded data removed]",
      "text/plain": [
       "<Figure size 432x288 with 1 Axes>"
      ]
     },
     "metadata": {
      "needs_background": "light"
     },
     "output_type": "display_data"
    }
   ],
   "source": [
    "import keras\n",
    "from matplotlib import pyplot as plt\n",
    "\n",
    "def plot_fit_history(history):\n",
    "    plt.plot(history.history['accuracy'])\n",
    "    plt.plot(history.history['val_accuracy'])\n",
    "    plt.title('model accuracy')\n",
    "    plt.ylabel('accuracy')\n",
    "    plt.xlabel('epoch')\n",
    "    plt.legend(['train', 'val'], loc='upper left')\n",
    "    plt.show()\n",
    "plot_fit_history(history)"
   ]
  },
  {
   "cell_type": "code",
   "execution_count": null,
   "metadata": {},
   "outputs": [],
   "source": [
    "loss, accuracy = model.evaluate(X_test, y_test, verbose=1)\n",
    "print('Accuracy: %f' % (accuracy*100))"
   ]
  },
  {
   "cell_type": "code",
   "execution_count": null,
   "metadata": {},
   "outputs": [],
   "source": [
    "output = model.predict(X_train)\n",
    "print(output, '\\n shape:', output.shape)"
   ]
  },
  {
   "cell_type": "markdown",
   "metadata": {},
   "source": [
    "### Train own embedding"
   ]
  },
  {
   "cell_type": "code",
   "execution_count": 156,
   "metadata": {},
   "outputs": [],
   "source": [
    "num_1 = len(wkd['description'])\n",
    "num_0 = len(nwkd['description'])\n",
    "docs = wkd['description'].tolist() + nwkd['description'].tolist()\n",
    "labels = np.concatenate([np.ones(num_1), np.zeros(num_0)])"
   ]
  },
  {
   "cell_type": "code",
   "execution_count": 157,
   "metadata": {},
   "outputs": [],
   "source": [
    "nlp = en_core_web_md.load()\n",
    "stopwords_removed_docs = list(\n",
    "    map(lambda doc: \" \".join([token.text for token in nlp(doc) if not token.is_stop]), docs))"
   ]
  },
  {
   "cell_type": "code",
   "execution_count": 158,
   "metadata": {},
   "outputs": [],
   "source": [
    "def integer_encode_documents(docs, tokenizer):\n",
    "    return tokenizer.texts_to_sequences(docs)\n",
    "\n",
    "\n",
    "vocab_size = 5000\n",
    "MAX_SEQUENCE_LENGTH = len(max(stopwords_removed_docs,key=len))\n",
    "EMBEDDING_SIZE = 100\n",
    "\n",
    "\n",
    "tokenizer = Tokenizer()\n",
    "tokenizer.fit_on_texts(stopwords_removed_docs)\n",
    "encoded_docs = integer_encode_documents(stopwords_removed_docs, tokenizer)\n",
    "padded_docs = pad_sequences(encoded_docs, maxlen=MAX_SEQUENCE_LENGTH, padding='post')\n",
    "\n",
    "encoder = LabelEncoder()\n",
    "labels = to_categorical(encoder.fit_transform(labels))\n",
    "X_train, X_test, y_train, y_test = train_test_split(padded_docs, labels, test_size=0.2)"
   ]
  },
  {
   "cell_type": "code",
   "execution_count": 159,
   "metadata": {},
   "outputs": [
    {
     "name": "stdout",
     "output_type": "stream",
     "text": [
      "Model: \"sequential_14\"\n",
      "_________________________________________________________________\n",
      "Layer (type)                 Output Shape              Param #   \n",
      "=================================================================\n",
      "embedding_14 (Embedding)     (None, 862, 100)          40000000  \n",
      "_________________________________________________________________\n",
      "masking_14 (Masking)         (None, 862, 100)          0         \n",
      "_________________________________________________________________\n",
      "lstm_12 (LSTM)               (None, 32)                17024     \n",
      "_________________________________________________________________\n",
      "dense_27 (Dense)             (None, 16)                528       \n",
      "_________________________________________________________________\n",
      "dense_28 (Dense)             (None, 2)                 34        \n",
      "=================================================================\n",
      "Total params: 40,017,586\n",
      "Trainable params: 17,586\n",
      "Non-trainable params: 40,000,000\n",
      "_________________________________________________________________\n"
     ]
    }
   ],
   "source": [
    "model = make_lstm_classification_model()"
   ]
  },
  {
   "cell_type": "code",
   "execution_count": 160,
   "metadata": {
    "scrolled": true
   },
   "outputs": [
    {
     "name": "stdout",
     "output_type": "stream",
     "text": [
      "Train on 2870 samples, validate on 319 samples\n",
      "Epoch 1/25\n",
      "2870/2870 [==============================] - 69s 24ms/step - loss: 0.5740 - accuracy: 0.7314 - val_loss: 0.5516 - val_accuracy: 0.7586\n",
      "Epoch 2/25\n",
      "2870/2870 [==============================] - 63s 22ms/step - loss: 0.5368 - accuracy: 0.7624 - val_loss: 0.5519 - val_accuracy: 0.7586\n",
      "Epoch 3/25\n",
      "2870/2870 [==============================] - 63s 22ms/step - loss: 0.5224 - accuracy: 0.7627 - val_loss: 0.5521 - val_accuracy: 0.7586\n",
      "Epoch 4/25\n",
      "2870/2870 [==============================] - 66s 23ms/step - loss: 0.5059 - accuracy: 0.7655 - val_loss: 0.5649 - val_accuracy: 0.7586\n",
      "Epoch 5/25\n",
      "2870/2870 [==============================] - 67s 23ms/step - loss: 0.4860 - accuracy: 0.7791 - val_loss: 0.5590 - val_accuracy: 0.7680\n",
      "Epoch 6/25\n",
      "2870/2870 [==============================] - 66s 23ms/step - loss: 0.4541 - accuracy: 0.7941 - val_loss: 0.5754 - val_accuracy: 0.7618\n",
      "Epoch 7/25\n",
      "2870/2870 [==============================] - 68s 24ms/step - loss: 0.4238 - accuracy: 0.8129 - val_loss: 0.5790 - val_accuracy: 0.7649\n",
      "Epoch 8/25\n",
      "2870/2870 [==============================] - 68s 24ms/step - loss: 0.3864 - accuracy: 0.8373 - val_loss: 0.5748 - val_accuracy: 0.7618\n",
      "Epoch 9/25\n",
      "2870/2870 [==============================] - 69s 24ms/step - loss: 0.3450 - accuracy: 0.8592 - val_loss: 0.6167 - val_accuracy: 0.7179\n",
      "Epoch 10/25\n",
      "2870/2870 [==============================] - 73s 25ms/step - loss: 0.2953 - accuracy: 0.8791 - val_loss: 0.6553 - val_accuracy: 0.7398\n",
      "Epoch 11/25\n",
      "2870/2870 [==============================] - 80s 28ms/step - loss: 0.2651 - accuracy: 0.8927 - val_loss: 0.6742 - val_accuracy: 0.7116\n",
      "Epoch 12/25\n",
      "2870/2870 [==============================] - 77s 27ms/step - loss: 0.2183 - accuracy: 0.9136 - val_loss: 0.7108 - val_accuracy: 0.7555\n",
      "Epoch 13/25\n",
      "2870/2870 [==============================] - 71s 25ms/step - loss: 0.1803 - accuracy: 0.9341 - val_loss: 0.7546 - val_accuracy: 0.7147\n",
      "Epoch 14/25\n",
      "2870/2870 [==============================] - 69s 24ms/step - loss: 0.1590 - accuracy: 0.9418 - val_loss: 0.8867 - val_accuracy: 0.6897\n",
      "Epoch 15/25\n",
      "2870/2870 [==============================] - 68s 24ms/step - loss: 0.1268 - accuracy: 0.9561 - val_loss: 0.8194 - val_accuracy: 0.7461\n",
      "Epoch 16/25\n",
      "2870/2870 [==============================] - 69s 24ms/step - loss: 0.1257 - accuracy: 0.9578 - val_loss: 0.9758 - val_accuracy: 0.7053\n",
      "Epoch 17/25\n",
      "2870/2870 [==============================] - 67s 23ms/step - loss: 0.1065 - accuracy: 0.9620 - val_loss: 0.9319 - val_accuracy: 0.7053\n",
      "Epoch 18/25\n",
      "2870/2870 [==============================] - 71s 25ms/step - loss: 0.0991 - accuracy: 0.9669 - val_loss: 1.0800 - val_accuracy: 0.7649\n",
      "Epoch 19/25\n",
      "2870/2870 [==============================] - 63s 22ms/step - loss: 0.0997 - accuracy: 0.9655 - val_loss: 1.0225 - val_accuracy: 0.7179\n",
      "Epoch 20/25\n",
      "2870/2870 [==============================] - 62s 22ms/step - loss: 0.0875 - accuracy: 0.9704 - val_loss: 1.4203 - val_accuracy: 0.6583\n",
      "Epoch 21/25\n",
      "2870/2870 [==============================] - 62s 22ms/step - loss: 0.0979 - accuracy: 0.9666 - val_loss: 1.2812 - val_accuracy: 0.7273\n",
      "Epoch 22/25\n",
      "2870/2870 [==============================] - 62s 22ms/step - loss: 0.0807 - accuracy: 0.9725 - val_loss: 1.1988 - val_accuracy: 0.7429\n",
      "Epoch 23/25\n",
      "2870/2870 [==============================] - 62s 22ms/step - loss: 0.0825 - accuracy: 0.9704 - val_loss: 1.1696 - val_accuracy: 0.7210\n",
      "Epoch 24/25\n",
      "2870/2870 [==============================] - 62s 22ms/step - loss: 0.0758 - accuracy: 0.9760 - val_loss: 1.2664 - val_accuracy: 0.7429\n",
      "Epoch 25/25\n",
      "2870/2870 [==============================] - 62s 22ms/step - loss: 0.0817 - accuracy: 0.9753 - val_loss: 1.2261 - val_accuracy: 0.7304\n"
     ]
    }
   ],
   "source": [
    "history = model.fit(X_train, y_train,validation_split = 0.1, epochs=25, verbose=1)"
   ]
  },
  {
   "cell_type": "code",
   "execution_count": 161,
   "metadata": {},
   "outputs": [
    {
     "data": {
      "image/png": "[encoded data removed]",
      "text/plain": [
       "<Figure size 432x288 with 1 Axes>"
      ]
     },
     "metadata": {
      "needs_background": "light"
     },
     "output_type": "display_data"
    }
   ],
   "source": [
    "plot_fit_history(history)"
   ]
  },
  {
   "cell_type": "code",
   "execution_count": 162,
   "metadata": {},
   "outputs": [
    {
     "name": "stdout",
     "output_type": "stream",
     "text": [
      "798/798 [==============================] - 3s 4ms/step\n",
      "Accuracy: 72.180450\n"
     ]
    }
   ],
   "source": [
    "loss, accuracy = model.evaluate(X_test, y_test, verbose=1)\n",
    "print('Accuracy: %f' % (accuracy*100))"
   ]
  },
  {
   "cell_type": "markdown",
   "metadata": {},
   "source": [
    "## Other features"
   ]
  },
  {
   "cell_type": "code",
   "execution_count": 40,
   "metadata": {},
   "outputs": [],
   "source": [
    "# from https://radimrehurek.com/gensim/models/word2vec.html\n",
    "from gensim.test.utils import common_texts, get_tmpfile # get_tmpfile: save a model for us\n",
    "from gensim.models import Word2Vec\n",
    "\n",
    "path = get_tmpfile(\"word2vec.model\")\n",
    "model = Word2Vec(size=100, window=3, min_count=5, workers=4)\n",
    "model.save(\"word2vec.model\")"
   ]
  },
  {
   "cell_type": "code",
   "execution_count": 41,
   "metadata": {},
   "outputs": [],
   "source": [
    "wkd['other features'] = wkd[['brand','details','name']].apply(lambda x: \" \".join(x.astype(str)),axis=1)\n",
    "nwkd['other features'] = nwkd[['brand','details','name']].apply(lambda x: \" \".join(x.astype(str)),axis=1)\n",
    "num_1 = len(wkd['other features'])\n",
    "num_0 = len(nwkd['other features'])\n",
    "features = wkd['other features'].tolist() + nwkd['other features'].tolist()\n",
    "labels = np.concatenate([np.ones(num_1), np.zeros(num_0)])"
   ]
  },
  {
   "cell_type": "code",
   "execution_count": 42,
   "metadata": {},
   "outputs": [],
   "source": [
    "nlp = en_core_web_md.load()\n",
    "stopwords_removed_docs = list(\n",
    "    map(lambda doc: \" \".join([token.text for token in nlp(doc) if not token.is_stop]), features))"
   ]
  },
  {
   "cell_type": "code",
   "execution_count": 43,
   "metadata": {},
   "outputs": [],
   "source": [
    "tokenizer = Tokenizer(num_words=5000, oov_token=\"UNKNOWN_TOKEN\")\n",
    "tokenizer.fit_on_texts(stopwords_removed_docs)\n",
    "tok_word_num = len(tokenizer.word_index)"
   ]
  },
  {
   "cell_type": "code",
   "execution_count": 44,
   "metadata": {},
   "outputs": [],
   "source": [
    "def integer_encode_documents(docs, tokenizer):\n",
    "    return tokenizer.texts_to_sequences(docs)\n",
    "\n",
    "encoded_docs = integer_encode_documents(stopwords_removed_docs, tokenizer)\n",
    "# this is a list of lists, the numbers represent the index position of that word.\n",
    "MAX_SEQUENCE_LENGTH = len(max(stopwords_removed_docs,key=len))\n",
    "padded_docs = pad_sequences(encoded_docs, maxlen=MAX_SEQUENCE_LENGTH, padding='post')"
   ]
  },
  {
   "cell_type": "code",
   "execution_count": 45,
   "metadata": {},
   "outputs": [],
   "source": [
    "encoder = LabelEncoder()\n",
    "labels = to_categorical(encoder.fit_transform(labels))"
   ]
  },
  {
   "cell_type": "code",
   "execution_count": 46,
   "metadata": {},
   "outputs": [],
   "source": [
    "X_train, X_test, y_train, y_test = train_test_split(padded_docs, labels, test_size=0.2)"
   ]
  },
  {
   "cell_type": "code",
   "execution_count": 47,
   "metadata": {},
   "outputs": [
    {
     "data": {
      "text/plain": [
       "(3189, 989)"
      ]
     },
     "execution_count": 47,
     "metadata": {},
     "output_type": "execute_result"
    }
   ],
   "source": [
    "X_train.shape"
   ]
  },
  {
   "cell_type": "code",
   "execution_count": 48,
   "metadata": {},
   "outputs": [
    {
     "data": {
      "text/plain": [
       "(3189, 2)"
      ]
     },
     "execution_count": 48,
     "metadata": {},
     "output_type": "execute_result"
    }
   ],
   "source": [
    "y_train.shape"
   ]
  },
  {
   "cell_type": "code",
   "execution_count": 54,
   "metadata": {},
   "outputs": [],
   "source": [
    "w2vdocs = [word_tokenize(f) for f in features]\n",
    "w2vmodel = Word2Vec(w2vdocs, size=100, window=3, min_count=5, workers=4)"
   ]
  },
  {
   "cell_type": "code",
   "execution_count": 55,
   "metadata": {},
   "outputs": [
    {
     "data": {
      "text/plain": [
       "1958"
      ]
     },
     "execution_count": 55,
     "metadata": {},
     "output_type": "execute_result"
    }
   ],
   "source": [
    "len(w2vmodel.wv.vocab)"
   ]
  },
  {
   "cell_type": "code",
   "execution_count": 59,
   "metadata": {},
   "outputs": [
    {
     "name": "stdout",
     "output_type": "stream",
     "text": [
      "Null word embeddings: 6767\n"
     ]
    }
   ],
   "source": [
    "VOCAB_SIZE = int(len(tokenizer.word_index) * 1.3)\n",
    "#VOCAB_SIZE = len(w2vmodel.wv.vocab)\n",
    "#VOCAB_SIZE = min(5000, tok_word_num)+1\n",
    "embedding_matrix = zeros((VOCAB_SIZE, 100))\n",
    "for word, i in tokenizer.word_index.items():\n",
    "    if word in w2vmodel:\n",
    "        embedding_matrix[i] = w2vmodel[word]\n",
    "print('Null word embeddings: %d' % np.sum(np.sum(embedding_matrix, axis=1) == 0))"
   ]
  },
  {
   "cell_type": "code",
   "execution_count": 60,
   "metadata": {},
   "outputs": [
    {
     "data": {
      "text/plain": [
       "(7472, 100)"
      ]
     },
     "execution_count": 60,
     "metadata": {},
     "output_type": "execute_result"
    }
   ],
   "source": [
    "embedding_matrix.shape"
   ]
  },
  {
   "cell_type": "code",
   "execution_count": 61,
   "metadata": {},
   "outputs": [
    {
     "data": {
      "text/plain": [
       "7472"
      ]
     },
     "execution_count": 61,
     "metadata": {},
     "output_type": "execute_result"
    }
   ],
   "source": [
    "VOCAB_SIZE"
   ]
  },
  {
   "cell_type": "code",
   "execution_count": 90,
   "metadata": {},
   "outputs": [],
   "source": [
    "from keras.layers.recurrent import SimpleRNN, LSTM\n",
    "from keras.layers import Flatten, Masking\n",
    "from keras import optimizers\n",
    "from keras.callbacks import EarlyStopping, ModelCheckpoint\n",
    "from keras.models import load_model, Sequential\n",
    "\n",
    "# define model\n",
    "\n",
    "def make_binary_classification_rnn_model(plot=False):\n",
    "    model = Sequential()\n",
    "    # embedding(input_dim, output_dim)\n",
    "    model.add(Embedding(VOCAB_SIZE, 100, weights=[embedding_matrix], input_length=MAX_SEQUENCE_LENGTH, trainable=False))\n",
    "    model.add(Masking(mask_value=0.0)) # masking layer, masks any words that don't have an embedding as 0s.\n",
    "    model.add(SimpleRNN(units=32, input_shape=(1, MAX_SEQUENCE_LENGTH))) # set hidden state dimensionality to 64\n",
    "    model.add(Dense(16))\n",
    "    model.add(Dense(2, activation='softmax')) # 2 nodes, prediction for positive/negative, two classes\n",
    "    \n",
    "    # Compile the model\n",
    "    model.compile(\n",
    "    optimizer='adam', loss='categorical_crossentropy', metrics=['accuracy'])\n",
    "    # summarize the model\n",
    "    model.summary()\n",
    "    \n",
    "    if plot:\n",
    "        plot_model(model, to_file='model.png', show_shapes=True)\n",
    "    return model\n",
    "\n",
    "def make_lstm_classification_model(plot=False):\n",
    "    model = Sequential()\n",
    "    model.add(Embedding(VOCAB_SIZE, 100, weights=[embedding_matrix], input_length=MAX_SEQUENCE_LENGTH, trainable=True))\n",
    "    model.add(Masking(mask_value=0.0)) # masking layer, masks any words that don't have an embedding as 0s.\n",
    "    model.add(LSTM(units=32, input_shape=(1, MAX_SEQUENCE_LENGTH)))\n",
    "    model.add(Dense(16))\n",
    "    model.add(Dense(2, activation='softmax'))\n",
    "    \n",
    "    opt = optimizers.Adam(learning_rate=0.001, beta_1=0.9, beta_2=0.999, amsgrad=False)\n",
    "    # early stopping\n",
    "    es = EarlyStopping(monitor='val_loss', mode='min', verbose=1, patience=30)\n",
    "    mc = ModelCheckpoint('best_model_feature.h5', monitor='val_accuracy', mode='max', verbose=1, save_best_only=True)\n",
    "\n",
    "    # Compile the model\n",
    "    model.compile(\n",
    "    optimizer=opt, loss='categorical_crossentropy', metrics=['accuracy'])\n",
    "    \n",
    "    # summarize the model\n",
    "    model.summary()\n",
    "    \n",
    "    if plot:\n",
    "        plot_model(model, to_file='model.png', show_shapes=True)\n",
    "    return model, es, mc"
   ]
  },
  {
   "cell_type": "code",
   "execution_count": 91,
   "metadata": {},
   "outputs": [
    {
     "name": "stdout",
     "output_type": "stream",
     "text": [
      "Model: \"sequential_7\"\n",
      "_________________________________________________________________\n",
      "Layer (type)                 Output Shape              Param #   \n",
      "=================================================================\n",
      "embedding_7 (Embedding)      (None, 989, 100)          747200    \n",
      "_________________________________________________________________\n",
      "masking_7 (Masking)          (None, 989, 100)          0         \n",
      "_________________________________________________________________\n",
      "lstm_7 (LSTM)                (None, 32)                17024     \n",
      "_________________________________________________________________\n",
      "dense_13 (Dense)             (None, 16)                528       \n",
      "_________________________________________________________________\n",
      "dense_14 (Dense)             (None, 2)                 34        \n",
      "=================================================================\n",
      "Total params: 764,786\n",
      "Trainable params: 764,786\n",
      "Non-trainable params: 0\n",
      "_________________________________________________________________\n"
     ]
    }
   ],
   "source": [
    "MAX_SEQUENCE_LENGTH = len(max(stopwords_removed_docs,key=len))\n",
    "model, es, mc = make_lstm_classification_model()"
   ]
  },
  {
   "cell_type": "code",
   "execution_count": null,
   "metadata": {},
   "outputs": [],
   "source": []
  },
  {
   "cell_type": "code",
   "execution_count": 92,
   "metadata": {
    "scrolled": true
   },
   "outputs": [
    {
     "name": "stdout",
     "output_type": "stream",
     "text": [
      "Train on 2870 samples, validate on 319 samples\n",
      "Epoch 1/100\n",
      "2870/2870 [==============================] - 95s 33ms/step - loss: 0.5234 - accuracy: 0.7676 - val_loss: 0.4220 - val_accuracy: 0.8464\n",
      "\n",
      "Epoch 00001: val_accuracy improved from -inf to 0.84639, saving model to best_model_feature.h5\n",
      "Epoch 2/100\n",
      "2870/2870 [==============================] - 93s 33ms/step - loss: 0.4233 - accuracy: 0.8279 - val_loss: 0.4081 - val_accuracy: 0.8433\n",
      "\n",
      "Epoch 00002: val_accuracy did not improve from 0.84639\n",
      "Epoch 3/100\n",
      "2870/2870 [==============================] - 84s 29ms/step - loss: 0.3687 - accuracy: 0.8516 - val_loss: 0.4109 - val_accuracy: 0.8339\n",
      "\n",
      "Epoch 00003: val_accuracy did not improve from 0.84639\n",
      "Epoch 4/100\n",
      "2870/2870 [==============================] - 84s 29ms/step - loss: 0.3393 - accuracy: 0.8652 - val_loss: 0.3532 - val_accuracy: 0.8683\n",
      "\n",
      "Epoch 00004: val_accuracy improved from 0.84639 to 0.86834, saving model to best_model_feature.h5\n",
      "Epoch 5/100\n",
      "2870/2870 [==============================] - 87s 30ms/step - loss: 0.3057 - accuracy: 0.8763 - val_loss: 0.4007 - val_accuracy: 0.8307\n",
      "\n",
      "Epoch 00005: val_accuracy did not improve from 0.86834\n",
      "Epoch 6/100\n",
      "2870/2870 [==============================] - 102s 35ms/step - loss: 0.2887 - accuracy: 0.8833 - val_loss: 0.3587 - val_accuracy: 0.8527\n",
      "\n",
      "Epoch 00006: val_accuracy did not improve from 0.86834\n",
      "Epoch 7/100\n",
      "2870/2870 [==============================] - 102s 35ms/step - loss: 0.2716 - accuracy: 0.8965 - val_loss: 0.3779 - val_accuracy: 0.8464\n",
      "\n",
      "Epoch 00007: val_accuracy did not improve from 0.86834\n",
      "Epoch 8/100\n",
      "2870/2870 [==============================] - 86s 30ms/step - loss: 0.2579 - accuracy: 0.8955 - val_loss: 0.3809 - val_accuracy: 0.8339\n",
      "\n",
      "Epoch 00008: val_accuracy did not improve from 0.86834\n",
      "Epoch 9/100\n",
      "2870/2870 [==============================] - 87s 30ms/step - loss: 0.2515 - accuracy: 0.9007 - val_loss: 0.3658 - val_accuracy: 0.8558\n",
      "\n",
      "Epoch 00009: val_accuracy did not improve from 0.86834\n",
      "Epoch 10/100\n",
      "2870/2870 [==============================] - 87s 30ms/step - loss: 0.2349 - accuracy: 0.9066 - val_loss: 0.4132 - val_accuracy: 0.8245\n",
      "\n",
      "Epoch 00010: val_accuracy did not improve from 0.86834\n",
      "Epoch 11/100\n",
      "2870/2870 [==============================] - 87s 30ms/step - loss: 0.2300 - accuracy: 0.9045 - val_loss: 0.4166 - val_accuracy: 0.8495\n",
      "\n",
      "Epoch 00011: val_accuracy did not improve from 0.86834\n",
      "Epoch 12/100\n",
      "2870/2870 [==============================] - 82s 28ms/step - loss: 0.2073 - accuracy: 0.9192 - val_loss: 0.4172 - val_accuracy: 0.8495\n",
      "\n",
      "Epoch 00012: val_accuracy did not improve from 0.86834\n",
      "Epoch 13/100\n",
      "2870/2870 [==============================] - 81s 28ms/step - loss: 0.1953 - accuracy: 0.9230 - val_loss: 0.4516 - val_accuracy: 0.8495\n",
      "\n",
      "Epoch 00013: val_accuracy did not improve from 0.86834\n",
      "Epoch 14/100\n",
      "2870/2870 [==============================] - 81s 28ms/step - loss: 0.1846 - accuracy: 0.9240 - val_loss: 0.4448 - val_accuracy: 0.8558\n",
      "\n",
      "Epoch 00014: val_accuracy did not improve from 0.86834\n",
      "Epoch 15/100\n",
      "2870/2870 [==============================] - 82s 28ms/step - loss: 0.1733 - accuracy: 0.9289 - val_loss: 0.5092 - val_accuracy: 0.8464\n",
      "\n",
      "Epoch 00015: val_accuracy did not improve from 0.86834\n",
      "Epoch 16/100\n",
      "2870/2870 [==============================] - 81s 28ms/step - loss: 0.1778 - accuracy: 0.9296 - val_loss: 0.5302 - val_accuracy: 0.8495\n",
      "\n",
      "Epoch 00016: val_accuracy did not improve from 0.86834\n",
      "Epoch 17/100\n",
      "2870/2870 [==============================] - 89s 31ms/step - loss: 0.1616 - accuracy: 0.9338 - val_loss: 0.5121 - val_accuracy: 0.8527\n",
      "\n",
      "Epoch 00017: val_accuracy did not improve from 0.86834\n",
      "Epoch 18/100\n",
      "2870/2870 [==============================] - 85s 30ms/step - loss: 0.1529 - accuracy: 0.9380 - val_loss: 0.5485 - val_accuracy: 0.8433\n",
      "\n",
      "Epoch 00018: val_accuracy did not improve from 0.86834\n",
      "Epoch 19/100\n",
      "2870/2870 [==============================] - 91s 32ms/step - loss: 0.1354 - accuracy: 0.9474 - val_loss: 0.6340 - val_accuracy: 0.8339\n",
      "\n",
      "Epoch 00019: val_accuracy did not improve from 0.86834\n",
      "Epoch 20/100\n",
      "2870/2870 [==============================] - 90s 31ms/step - loss: 0.1369 - accuracy: 0.9415 - val_loss: 0.5974 - val_accuracy: 0.8433\n",
      "\n",
      "Epoch 00020: val_accuracy did not improve from 0.86834\n",
      "Epoch 21/100\n",
      "2870/2870 [==============================] - 89s 31ms/step - loss: 0.1436 - accuracy: 0.9390 - val_loss: 0.5593 - val_accuracy: 0.8652\n",
      "\n",
      "Epoch 00021: val_accuracy did not improve from 0.86834\n",
      "Epoch 22/100\n",
      "2870/2870 [==============================] - 96s 33ms/step - loss: 0.1290 - accuracy: 0.9512 - val_loss: 0.6564 - val_accuracy: 0.8370\n",
      "\n",
      "Epoch 00022: val_accuracy did not improve from 0.86834\n",
      "Epoch 23/100\n",
      "2870/2870 [==============================] - 88s 31ms/step - loss: 0.1147 - accuracy: 0.9512 - val_loss: 0.7166 - val_accuracy: 0.8182\n",
      "\n",
      "Epoch 00023: val_accuracy did not improve from 0.86834\n",
      "Epoch 24/100\n",
      "2870/2870 [==============================] - 85s 30ms/step - loss: 0.1080 - accuracy: 0.9557 - val_loss: 0.8588 - val_accuracy: 0.7868\n",
      "\n",
      "Epoch 00024: val_accuracy did not improve from 0.86834\n",
      "Epoch 25/100\n",
      "2870/2870 [==============================] - 86s 30ms/step - loss: 0.1020 - accuracy: 0.9596 - val_loss: 0.7689 - val_accuracy: 0.8150\n",
      "\n",
      "Epoch 00025: val_accuracy did not improve from 0.86834\n",
      "Epoch 26/100\n",
      "2870/2870 [==============================] - 91s 32ms/step - loss: 0.0955 - accuracy: 0.9613 - val_loss: 0.7698 - val_accuracy: 0.8370\n",
      "\n",
      "Epoch 00026: val_accuracy did not improve from 0.86834\n",
      "Epoch 27/100\n",
      "2870/2870 [==============================] - 96s 34ms/step - loss: 0.0986 - accuracy: 0.9564 - val_loss: 0.8168 - val_accuracy: 0.8182\n",
      "\n",
      "Epoch 00027: val_accuracy did not improve from 0.86834\n",
      "Epoch 28/100\n",
      "2870/2870 [==============================] - 86s 30ms/step - loss: 0.0820 - accuracy: 0.9672 - val_loss: 0.8797 - val_accuracy: 0.8245\n",
      "\n",
      "Epoch 00028: val_accuracy did not improve from 0.86834\n",
      "Epoch 29/100\n",
      "2870/2870 [==============================] - 84s 29ms/step - loss: 0.0865 - accuracy: 0.9659 - val_loss: 0.8754 - val_accuracy: 0.8182\n",
      "\n",
      "Epoch 00029: val_accuracy did not improve from 0.86834\n",
      "Epoch 30/100\n",
      "2870/2870 [==============================] - 117s 41ms/step - loss: 0.0775 - accuracy: 0.9655 - val_loss: 0.9036 - val_accuracy: 0.8088\n",
      "\n",
      "Epoch 00030: val_accuracy did not improve from 0.86834\n",
      "Epoch 31/100\n",
      "2870/2870 [==============================] - 101s 35ms/step - loss: 0.0871 - accuracy: 0.9648 - val_loss: 0.9036 - val_accuracy: 0.7994\n",
      "\n",
      "Epoch 00031: val_accuracy did not improve from 0.86834\n",
      "Epoch 32/100\n",
      "2870/2870 [==============================] - 100s 35ms/step - loss: 0.0841 - accuracy: 0.9655 - val_loss: 0.9340 - val_accuracy: 0.8025\n",
      "\n",
      "Epoch 00032: val_accuracy did not improve from 0.86834\n",
      "Epoch 33/100\n",
      "2870/2870 [==============================] - 101s 35ms/step - loss: 0.0743 - accuracy: 0.9679 - val_loss: 1.0043 - val_accuracy: 0.8119\n",
      "\n",
      "Epoch 00033: val_accuracy did not improve from 0.86834\n",
      "Epoch 34/100\n",
      "2870/2870 [==============================] - 105s 37ms/step - loss: 0.0786 - accuracy: 0.9690 - val_loss: 0.9932 - val_accuracy: 0.8401\n",
      "\n",
      "Epoch 00034: val_accuracy did not improve from 0.86834\n",
      "Epoch 00034: early stopping\n"
     ]
    }
   ],
   "source": [
    "history = model.fit(X_train, y_train, validation_split = 0.1, epochs=100, verbose=1, callbacks=[es,mc])"
   ]
  },
  {
   "cell_type": "code",
   "execution_count": 93,
   "metadata": {},
   "outputs": [
    {
     "data": {
      "image/png": "[encoded data removed]",
      "text/plain": [
       "<Figure size 432x288 with 1 Axes>"
      ]
     },
     "metadata": {
      "needs_background": "light"
     },
     "output_type": "display_data"
    }
   ],
   "source": [
    "import keras\n",
    "from matplotlib import pyplot as plt\n",
    "\n",
    "def plot_fit_history(history):\n",
    "    plt.plot(history.history['accuracy'])\n",
    "    plt.plot(history.history['val_accuracy'])\n",
    "    plt.title('model accuracy')\n",
    "    plt.ylabel('accuracy')\n",
    "    plt.xlabel('epoch')\n",
    "    plt.legend(['train', 'val'], loc='upper left')\n",
    "    plt.show()\n",
    "plot_fit_history(history)"
   ]
  },
  {
   "cell_type": "code",
   "execution_count": 94,
   "metadata": {},
   "outputs": [
    {
     "name": "stdout",
     "output_type": "stream",
     "text": [
      "798/798 [==============================] - 6s 7ms/step\n",
      "Accuracy: 81.578946\n"
     ]
    }
   ],
   "source": [
    "saved_model = load_model('best_model_feature.h5')\n",
    "loss, accuracy = saved_model.evaluate(X_test, y_test, verbose=1)\n",
    "print('Accuracy: %f' % (accuracy*100))"
   ]
  },
  {
   "cell_type": "code",
   "execution_count": null,
   "metadata": {},
   "outputs": [],
   "source": []
  },
  {
   "cell_type": "code",
   "execution_count": null,
   "metadata": {},
   "outputs": [],
   "source": [
    "def make_nn_classification_model(plot=False):\n",
    "    model = Sequential()\n",
    "    model.add(Embedding(VOCAB_SIZE, 100, weights=[embedding_matrix], input_length=MAX_SEQUENCE_LENGTH, trainable=True))\n",
    "    model.add(Masking(mask_value=0.0)) # masking layer, masks any words that don't have an embedding as 0s.\n",
    "    #model.add(LSTM(units=32, input_shape=(1, MAX_SEQUENCE_LENGTH)))\n",
    "    model.add(Dense(32, activation='relu', kernel_initializer='random_normal', input_dim=MAX_SEQUENCE_LENGTH))\n",
    "    model.add(Dense(2, activation='softmax'))\n",
    "    \n",
    "    opt = optimizers.Adam(learning_rate=0.001, beta_1=0.9, beta_2=0.999, amsgrad=False)\n",
    "    # early stopping\n",
    "    #es = EarlyStopping(monitor='val_loss', mode='min', verbose=1, patience=30)\n",
    "    #mc = ModelCheckpoint('best_model_feature.h5', monitor='val_accuracy', mode='max', verbose=1, save_best_only=True)\n",
    "\n",
    "    # Compile the model\n",
    "    model.compile(\n",
    "    optimizer=opt, loss='categorical_crossentropy', metrics=['accuracy'])\n",
    "    \n",
    "    # summarize the model\n",
    "    model.summary()\n",
    "    \n",
    "    if plot:\n",
    "        plot_model(model, to_file='model.png', show_shapes=True)\n",
    "    return model#, es, mc"
   ]
  },
  {
   "cell_type": "code",
   "execution_count": null,
   "metadata": {},
   "outputs": [],
   "source": []
  },
  {
   "cell_type": "code",
   "execution_count": null,
   "metadata": {},
   "outputs": [],
   "source": []
  },
  {
   "cell_type": "code",
   "execution_count": null,
   "metadata": {},
   "outputs": [],
   "source": []
  },
  {
   "cell_type": "code",
   "execution_count": null,
   "metadata": {},
   "outputs": [],
   "source": []
  },
  {
   "cell_type": "code",
   "execution_count": null,
   "metadata": {},
   "outputs": [],
   "source": []
  },
  {
   "cell_type": "code",
   "execution_count": null,
   "metadata": {},
   "outputs": [],
   "source": []
  },
  {
   "cell_type": "code",
   "execution_count": null,
   "metadata": {},
   "outputs": [],
   "source": []
  },
  {
   "cell_type": "code",
   "execution_count": null,
   "metadata": {},
   "outputs": [],
   "source": []
  },
  {
   "cell_type": "code",
   "execution_count": null,
   "metadata": {},
   "outputs": [],
   "source": []
  },
  {
   "cell_type": "code",
   "execution_count": null,
   "metadata": {},
   "outputs": [],
   "source": []
  },
  {
   "cell_type": "code",
   "execution_count": null,
   "metadata": {},
   "outputs": [],
   "source": []
  }
 ],
 "metadata": {
  "kernelspec": {
   "display_name": "Python [conda env:DSO570]",
   "language": "python",
   "name": "conda-env-DSO570-py"
  },
  "language_info": {
   "codemirror_mode": {
    "name": "ipython",
    "version": 3
   },
   "file_extension": ".py",
   "mimetype": "text/x-python",
   "name": "python",
   "nbconvert_exporter": "python",
   "pygments_lexer": "ipython3",
   "version": "3.7.6"
  }
 },
 "nbformat": 4,
 "nbformat_minor": 2
}
