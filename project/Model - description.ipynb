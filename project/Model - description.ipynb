{
 "cells": [
  {
   "cell_type": "code",
   "execution_count": 35,
   "metadata": {},
   "outputs": [],
   "source": [
    "from gensim.test.utils import common_texts, get_tmpfile # get_tmpfile: save a model for us\n",
    "from gensim.models import Word2Vec\n",
    "from nltk import word_tokenize\n",
    "import pandas as pd\n",
    "import numpy as np\n",
    "import warnings\n",
    "warnings.filterwarnings('ignore')"
   ]
  },
  {
   "cell_type": "code",
   "execution_count": 36,
   "metadata": {},
   "outputs": [
    {
     "data": {
      "text/html": [
       "<div>\n",
       "<style scoped>\n",
       "    .dataframe tbody tr th:only-of-type {\n",
       "        vertical-align: middle;\n",
       "    }\n",
       "\n",
       "    .dataframe tbody tr th {\n",
       "        vertical-align: top;\n",
       "    }\n",
       "\n",
       "    .dataframe thead th {\n",
       "        text-align: right;\n",
       "    }\n",
       "</style>\n",
       "<table border=\"1\" class=\"dataframe\">\n",
       "  <thead>\n",
       "    <tr style=\"text-align: right;\">\n",
       "      <th></th>\n",
       "      <th>product_id</th>\n",
       "      <th>attribute_name</th>\n",
       "      <th>attribute_value</th>\n",
       "      <th>brand</th>\n",
       "      <th>description</th>\n",
       "      <th>details</th>\n",
       "      <th>name</th>\n",
       "    </tr>\n",
       "  </thead>\n",
       "  <tbody>\n",
       "    <tr>\n",
       "      <th>0</th>\n",
       "      <td>01DVS1SHB0MXNERKX17C3P5YXS</td>\n",
       "      <td>occasion</td>\n",
       "      <td>weekend</td>\n",
       "      <td>mansurgavriel</td>\n",
       "      <td>Mansur Gavriel's sleek mini top handle bag was...</td>\n",
       "      <td>Zip fastening across top Composition: calf lea...</td>\n",
       "      <td>Mini Leather Top Handle Bag</td>\n",
       "    </tr>\n",
       "    <tr>\n",
       "      <th>1</th>\n",
       "      <td>01DVS1SHB0MXNERKX17C3P5YXS</td>\n",
       "      <td>occasion</td>\n",
       "      <td>weekend</td>\n",
       "      <td>mansurgavriel</td>\n",
       "      <td>Mansur Gavriel's sleek mini top handle bag was...</td>\n",
       "      <td>Zip fastening across top Composition: calf lea...</td>\n",
       "      <td>Mini Leather Top Handle Bag</td>\n",
       "    </tr>\n",
       "    <tr>\n",
       "      <th>2</th>\n",
       "      <td>01DPEEZGRJYX4N4WE78GPM0B2G</td>\n",
       "      <td>occasion</td>\n",
       "      <td>weekend</td>\n",
       "      <td>jcrew</td>\n",
       "      <td>Meet your new favorite everyday ankle boot&amp;mda...</td>\n",
       "      <td>UNKNOWN_TOKEN</td>\n",
       "      <td>Sadie boots in suede</td>\n",
       "    </tr>\n",
       "    <tr>\n",
       "      <th>3</th>\n",
       "      <td>01DTJ8EMCR26JCYAWK0CYST9H7</td>\n",
       "      <td>occasion</td>\n",
       "      <td>daytonight</td>\n",
       "      <td>marni</td>\n",
       "      <td>It’s everything you want in a structured every...</td>\n",
       "      <td>UNKNOWN_TOKEN</td>\n",
       "      <td>Law Bag Shoulder Bag</td>\n",
       "    </tr>\n",
       "    <tr>\n",
       "      <th>4</th>\n",
       "      <td>01E1JKZ7CJ8A3C1PPM0QCAEDGY</td>\n",
       "      <td>occasion</td>\n",
       "      <td>work</td>\n",
       "      <td>veronicabeard</td>\n",
       "      <td>Made from the highest quality Japanese stretch...</td>\n",
       "      <td>High rise.  True to size. SIZEVALUE, SIZEVALUE...</td>\n",
       "      <td>Kate 10 Skinny Jeans</td>\n",
       "    </tr>\n",
       "  </tbody>\n",
       "</table>\n",
       "</div>"
      ],
      "text/plain": [
       "                   product_id attribute_name attribute_value          brand  \\\n",
       "0  01DVS1SHB0MXNERKX17C3P5YXS       occasion         weekend  mansurgavriel   \n",
       "1  01DVS1SHB0MXNERKX17C3P5YXS       occasion         weekend  mansurgavriel   \n",
       "2  01DPEEZGRJYX4N4WE78GPM0B2G       occasion         weekend          jcrew   \n",
       "3  01DTJ8EMCR26JCYAWK0CYST9H7       occasion      daytonight          marni   \n",
       "4  01E1JKZ7CJ8A3C1PPM0QCAEDGY       occasion            work  veronicabeard   \n",
       "\n",
       "                                         description  \\\n",
       "0  Mansur Gavriel's sleek mini top handle bag was...   \n",
       "1  Mansur Gavriel's sleek mini top handle bag was...   \n",
       "2  Meet your new favorite everyday ankle boot&mda...   \n",
       "3  It’s everything you want in a structured every...   \n",
       "4  Made from the highest quality Japanese stretch...   \n",
       "\n",
       "                                             details  \\\n",
       "0  Zip fastening across top Composition: calf lea...   \n",
       "1  Zip fastening across top Composition: calf lea...   \n",
       "2                                      UNKNOWN_TOKEN   \n",
       "3                                      UNKNOWN_TOKEN   \n",
       "4  High rise.  True to size. SIZEVALUE, SIZEVALUE...   \n",
       "\n",
       "                          name  \n",
       "0  Mini Leather Top Handle Bag  \n",
       "1  Mini Leather Top Handle Bag  \n",
       "2         Sadie boots in suede  \n",
       "3         Law Bag Shoulder Bag  \n",
       "4         Kate 10 Skinny Jeans  "
      ]
     },
     "execution_count": 36,
     "metadata": {},
     "output_type": "execute_result"
    }
   ],
   "source": [
    "data = pd.read_csv(\"occ_cleaned.csv\")\n",
    "data.head()"
   ]
  },
  {
   "cell_type": "code",
   "execution_count": 37,
   "metadata": {},
   "outputs": [
    {
     "data": {
      "text/html": [
       "<div>\n",
       "<style scoped>\n",
       "    .dataframe tbody tr th:only-of-type {\n",
       "        vertical-align: middle;\n",
       "    }\n",
       "\n",
       "    .dataframe tbody tr th {\n",
       "        vertical-align: top;\n",
       "    }\n",
       "\n",
       "    .dataframe thead th {\n",
       "        text-align: right;\n",
       "    }\n",
       "</style>\n",
       "<table border=\"1\" class=\"dataframe\">\n",
       "  <thead>\n",
       "    <tr style=\"text-align: right;\">\n",
       "      <th></th>\n",
       "      <th>product_id</th>\n",
       "      <th>attribute_name</th>\n",
       "      <th>attribute_value</th>\n",
       "      <th>brand</th>\n",
       "      <th>description</th>\n",
       "      <th>details</th>\n",
       "      <th>name</th>\n",
       "    </tr>\n",
       "  </thead>\n",
       "  <tbody>\n",
       "    <tr>\n",
       "      <th>count</th>\n",
       "      <td>12988</td>\n",
       "      <td>12988</td>\n",
       "      <td>12988</td>\n",
       "      <td>12988</td>\n",
       "      <td>12988</td>\n",
       "      <td>12988</td>\n",
       "      <td>12988</td>\n",
       "    </tr>\n",
       "    <tr>\n",
       "      <th>unique</th>\n",
       "      <td>3914</td>\n",
       "      <td>1</td>\n",
       "      <td>7</td>\n",
       "      <td>308</td>\n",
       "      <td>3518</td>\n",
       "      <td>2574</td>\n",
       "      <td>3396</td>\n",
       "    </tr>\n",
       "    <tr>\n",
       "      <th>top</th>\n",
       "      <td>01DS48V97WA6D0APP3S4ABZN2P</td>\n",
       "      <td>occasion</td>\n",
       "      <td>weekend</td>\n",
       "      <td>frame</td>\n",
       "      <td>UNKNOWN_TOKEN</td>\n",
       "      <td>UNKNOWN_TOKEN</td>\n",
       "      <td>Hunter</td>\n",
       "    </tr>\n",
       "    <tr>\n",
       "      <th>freq</th>\n",
       "      <td>20</td>\n",
       "      <td>12988</td>\n",
       "      <td>4275</td>\n",
       "      <td>1151</td>\n",
       "      <td>1166</td>\n",
       "      <td>1152</td>\n",
       "      <td>156</td>\n",
       "    </tr>\n",
       "  </tbody>\n",
       "</table>\n",
       "</div>"
      ],
      "text/plain": [
       "                        product_id attribute_name attribute_value  brand  \\\n",
       "count                        12988          12988           12988  12988   \n",
       "unique                        3914              1               7    308   \n",
       "top     01DS48V97WA6D0APP3S4ABZN2P       occasion         weekend  frame   \n",
       "freq                            20          12988            4275   1151   \n",
       "\n",
       "          description        details    name  \n",
       "count           12988          12988   12988  \n",
       "unique           3518           2574    3396  \n",
       "top     UNKNOWN_TOKEN  UNKNOWN_TOKEN  Hunter  \n",
       "freq             1166           1152     156  "
      ]
     },
     "execution_count": 37,
     "metadata": {},
     "output_type": "execute_result"
    }
   ],
   "source": [
    "data.describe()"
   ]
  },
  {
   "cell_type": "code",
   "execution_count": 38,
   "metadata": {},
   "outputs": [
    {
     "data": {
      "text/plain": [
       "array(['weekend', 'daytonight', 'work', 'vacation', 'nightout', 'workout',\n",
       "       'coldweather'], dtype=object)"
      ]
     },
     "execution_count": 38,
     "metadata": {},
     "output_type": "execute_result"
    }
   ],
   "source": [
    "data.attribute_value.unique()"
   ]
  },
  {
   "cell_type": "code",
   "execution_count": 39,
   "metadata": {},
   "outputs": [],
   "source": [
    "all_value = data.groupby('product_id')['attribute_value'].unique().reset_index()"
   ]
  },
  {
   "cell_type": "code",
   "execution_count": 41,
   "metadata": {},
   "outputs": [
    {
     "data": {
      "text/html": [
       "<div>\n",
       "<style scoped>\n",
       "    .dataframe tbody tr th:only-of-type {\n",
       "        vertical-align: middle;\n",
       "    }\n",
       "\n",
       "    .dataframe tbody tr th {\n",
       "        vertical-align: top;\n",
       "    }\n",
       "\n",
       "    .dataframe thead th {\n",
       "        text-align: right;\n",
       "    }\n",
       "</style>\n",
       "<table border=\"1\" class=\"dataframe\">\n",
       "  <thead>\n",
       "    <tr style=\"text-align: right;\">\n",
       "      <th></th>\n",
       "      <th>product_id</th>\n",
       "      <th>attribute_value</th>\n",
       "    </tr>\n",
       "  </thead>\n",
       "  <tbody>\n",
       "    <tr>\n",
       "      <th>0</th>\n",
       "      <td>01DPC9GSTT72KHNN0MNDNKH7RD</td>\n",
       "      <td>[daytonight, work]</td>\n",
       "    </tr>\n",
       "    <tr>\n",
       "      <th>1</th>\n",
       "      <td>01DPCB2KEAVXXKFVM7FXBNE4VY</td>\n",
       "      <td>[daytonight, weekend, work]</td>\n",
       "    </tr>\n",
       "    <tr>\n",
       "      <th>2</th>\n",
       "      <td>01DPCG1C1P0MQAV9NMS3N1TDAA</td>\n",
       "      <td>[weekend, nightout]</td>\n",
       "    </tr>\n",
       "    <tr>\n",
       "      <th>3</th>\n",
       "      <td>01DPCHNEW5F2RHJQ3NJMVPK6SE</td>\n",
       "      <td>[work, daytonight, weekend]</td>\n",
       "    </tr>\n",
       "    <tr>\n",
       "      <th>4</th>\n",
       "      <td>01DPCHNQM0PA0SXZZZX85PF2ZJ</td>\n",
       "      <td>[daytonight, weekend]</td>\n",
       "    </tr>\n",
       "  </tbody>\n",
       "</table>\n",
       "</div>"
      ],
      "text/plain": [
       "                   product_id              attribute_value\n",
       "0  01DPC9GSTT72KHNN0MNDNKH7RD           [daytonight, work]\n",
       "1  01DPCB2KEAVXXKFVM7FXBNE4VY  [daytonight, weekend, work]\n",
       "2  01DPCG1C1P0MQAV9NMS3N1TDAA          [weekend, nightout]\n",
       "3  01DPCHNEW5F2RHJQ3NJMVPK6SE  [work, daytonight, weekend]\n",
       "4  01DPCHNQM0PA0SXZZZX85PF2ZJ        [daytonight, weekend]"
      ]
     },
     "execution_count": 41,
     "metadata": {},
     "output_type": "execute_result"
    }
   ],
   "source": [
    "all_value.head()"
   ]
  },
  {
   "cell_type": "code",
   "execution_count": 40,
   "metadata": {},
   "outputs": [
    {
     "data": {
      "text/plain": [
       "(3914, 2)"
      ]
     },
     "execution_count": 40,
     "metadata": {},
     "output_type": "execute_result"
    }
   ],
   "source": [
    "all_value.shape"
   ]
  },
  {
   "cell_type": "markdown",
   "metadata": {},
   "source": [
    "## label=1"
   ]
  },
  {
   "cell_type": "code",
   "execution_count": 45,
   "metadata": {},
   "outputs": [],
   "source": [
    "wkd = all_value[all_value['attribute_value'].apply(lambda x: 'weekend' in x)]\n",
    "wkd = pd.merge(wkd, data, how='left', on='product_id')\n",
    "wkd = wkd.iloc[:,3:]\n",
    "wkd.columns = ['label','brand','description','details','name']\n",
    "wkd = wkd[wkd.label=='weekend']\n",
    "wkd.drop_duplicates(inplace=True)"
   ]
  },
  {
   "cell_type": "code",
   "execution_count": 46,
   "metadata": {},
   "outputs": [],
   "source": [
    "dtn = all_value[all_value['attribute_value'].apply(lambda x: 'daytonight' in x)]\n",
    "dtn = pd.merge(dtn, data, how='left', on='product_id')\n",
    "dtn = dtn.iloc[:,3:]\n",
    "dtn.columns = ['label','brand','description','details','name']\n",
    "dtn = dtn[dtn.label=='daytonight']\n",
    "dtn.drop_duplicates(inplace=True)"
   ]
  },
  {
   "cell_type": "code",
   "execution_count": 47,
   "metadata": {},
   "outputs": [],
   "source": [
    "work = all_value[all_value['attribute_value'].apply(lambda x: 'work' in x)]\n",
    "work = pd.merge(work, data, how='left', on='product_id')\n",
    "work = work.iloc[:,3:]\n",
    "work.columns = ['label','brand','description','details','name']\n",
    "work = work[work.label=='work']\n",
    "work.drop_duplicates(inplace=True)"
   ]
  },
  {
   "cell_type": "code",
   "execution_count": 48,
   "metadata": {},
   "outputs": [],
   "source": [
    "ntot = all_value[all_value['attribute_value'].apply(lambda x: 'nightout' in x)]\n",
    "ntot = pd.merge(ntot, data, how='left', on='product_id')\n",
    "ntot = ntot.iloc[:,3:]\n",
    "ntot.columns = ['label','brand','description','details','name']\n",
    "ntot = ntot[ntot.label=='nightout']\n",
    "ntot.drop_duplicates(inplace=True)"
   ]
  },
  {
   "cell_type": "code",
   "execution_count": 49,
   "metadata": {},
   "outputs": [],
   "source": [
    "vc = all_value[all_value['attribute_value'].apply(lambda x: 'vacation' in x)]\n",
    "vc = pd.merge(vc, data, how='left', on='product_id')\n",
    "vc = vc.iloc[:,3:]\n",
    "vc.columns = ['label','brand','description','details','name']\n",
    "vc = vc[vc.label=='vacation']\n",
    "vc.drop_duplicates(inplace=True)"
   ]
  },
  {
   "cell_type": "code",
   "execution_count": 50,
   "metadata": {},
   "outputs": [],
   "source": [
    "wkot = all_value[all_value['attribute_value'].apply(lambda x: 'workout' in x)]\n",
    "wkot = pd.merge(wkot, data, how='left', on='product_id')\n",
    "wkot = wkot.iloc[:,3:]\n",
    "wkot.columns = ['label','brand','description','details','name']\n",
    "wkot = wkot[wkot.label=='workout']\n",
    "wkot.drop_duplicates(inplace=True)"
   ]
  },
  {
   "cell_type": "code",
   "execution_count": 51,
   "metadata": {},
   "outputs": [],
   "source": [
    "cw = all_value[all_value['attribute_value'].apply(lambda x: 'coldweather' in x)]\n",
    "cw = pd.merge(cw, data, how='left', on='product_id')\n",
    "cw = cw.iloc[:,3:]\n",
    "cw.columns = ['label','brand','description','details','name']\n",
    "cw = cw[cw.label=='coldweather']\n",
    "cw.drop_duplicates(inplace=True)"
   ]
  },
  {
   "cell_type": "markdown",
   "metadata": {},
   "source": [
    "## label = 0"
   ]
  },
  {
   "cell_type": "code",
   "execution_count": 52,
   "metadata": {},
   "outputs": [],
   "source": [
    "nwkd = all_value[all_value['attribute_value'].apply(lambda x: 'weekend' not in x)]\n",
    "nwkd = pd.merge(nwkd, data, how='left', on='product_id')\n",
    "nwkd = nwkd.iloc[:,3:]\n",
    "nwkd.columns = ['label','brand','description','details','name']\n",
    "nwkd['label'] = 0\n",
    "nwkd.drop_duplicates(inplace=True)"
   ]
  },
  {
   "cell_type": "code",
   "execution_count": 53,
   "metadata": {},
   "outputs": [],
   "source": [
    "ndtn = all_value[all_value['attribute_value'].apply(lambda x: 'daytonight' not in x)]\n",
    "ndtn = pd.merge(ndtn, data, how='left', on='product_id')\n",
    "ndtn = ndtn.iloc[:,3:]\n",
    "ndtn.columns = ['label','brand','description','details','name']\n",
    "ndtn['label'] = 0\n",
    "ndtn.drop_duplicates(inplace=True)"
   ]
  },
  {
   "cell_type": "code",
   "execution_count": 54,
   "metadata": {},
   "outputs": [],
   "source": [
    "nvc = all_value[all_value['attribute_value'].apply(lambda x: 'vacation' not in x)]\n",
    "nvc = pd.merge(nvc, data, how='left', on='product_id')\n",
    "nvc = nvc.iloc[:,3:]\n",
    "nvc.columns = ['label','brand','description','details','name']\n",
    "nvc['label'] = 0\n",
    "nvc.drop_duplicates(inplace=True)"
   ]
  },
  {
   "cell_type": "code",
   "execution_count": 55,
   "metadata": {},
   "outputs": [],
   "source": [
    "nwkot = all_value[all_value['attribute_value'].apply(lambda x: 'workout' not in x)]\n",
    "nwkot = pd.merge(nwkot, data, how='left', on='product_id')\n",
    "nwkot = nwkot.iloc[:,3:]\n",
    "nwkot.columns = ['label','brand','description','details','name']\n",
    "nwkot['label'] = 0\n",
    "nwkot.drop_duplicates(inplace=True)"
   ]
  },
  {
   "cell_type": "code",
   "execution_count": 56,
   "metadata": {},
   "outputs": [],
   "source": [
    "ncw = all_value[all_value['attribute_value'].apply(lambda x: 'coldweather' not in x)]\n",
    "ncw = pd.merge(ncw, data, how='left', on='product_id')\n",
    "ncw = ncw.iloc[:,3:]\n",
    "ncw.columns = ['label','brand','description','details','name']\n",
    "ncw['label'] = 0\n",
    "ncw.drop_duplicates(inplace=True)"
   ]
  },
  {
   "cell_type": "code",
   "execution_count": null,
   "metadata": {},
   "outputs": [],
   "source": []
  },
  {
   "cell_type": "code",
   "execution_count": null,
   "metadata": {},
   "outputs": [],
   "source": []
  },
  {
   "cell_type": "code",
   "execution_count": 57,
   "metadata": {},
   "outputs": [
    {
     "data": {
      "text/html": [
       "<div>\n",
       "<style scoped>\n",
       "    .dataframe tbody tr th:only-of-type {\n",
       "        vertical-align: middle;\n",
       "    }\n",
       "\n",
       "    .dataframe tbody tr th {\n",
       "        vertical-align: top;\n",
       "    }\n",
       "\n",
       "    .dataframe thead th {\n",
       "        text-align: right;\n",
       "    }\n",
       "</style>\n",
       "<table border=\"1\" class=\"dataframe\">\n",
       "  <thead>\n",
       "    <tr style=\"text-align: right;\">\n",
       "      <th></th>\n",
       "      <th>label</th>\n",
       "      <th>brand</th>\n",
       "      <th>description</th>\n",
       "      <th>details</th>\n",
       "      <th>name</th>\n",
       "    </tr>\n",
       "  </thead>\n",
       "  <tbody>\n",
       "    <tr>\n",
       "      <th>0</th>\n",
       "      <td>0</td>\n",
       "      <td>jcrew</td>\n",
       "      <td>Your new wear-to-work essential, this roomy to...</td>\n",
       "      <td>UNKNOWN_TOKEN</td>\n",
       "      <td>Devon bonded leather tote</td>\n",
       "    </tr>\n",
       "    <tr>\n",
       "      <th>2</th>\n",
       "      <td>0</td>\n",
       "      <td>jcrew</td>\n",
       "      <td>A classic fall silhouette in a classic fall-fr...</td>\n",
       "      <td>UNKNOWN_TOKEN</td>\n",
       "      <td>Fiona lace-up kitten heel ankle boots in black...</td>\n",
       "    </tr>\n",
       "    <tr>\n",
       "      <th>7</th>\n",
       "      <td>0</td>\n",
       "      <td>jcrew</td>\n",
       "      <td>Luxe doesn't even begin to describe this perfe...</td>\n",
       "      <td>UNKNOWN_TOKEN</td>\n",
       "      <td>Collection fluted sheath dress in Ratti® climb...</td>\n",
       "    </tr>\n",
       "    <tr>\n",
       "      <th>11</th>\n",
       "      <td>0</td>\n",
       "      <td>jcrew</td>\n",
       "      <td>When it comes to quality and color, no one doe...</td>\n",
       "      <td>UNKNOWN_TOKEN</td>\n",
       "      <td>Long-sleeve everyday cashmere mockneck sweater</td>\n",
       "    </tr>\n",
       "    <tr>\n",
       "      <th>17</th>\n",
       "      <td>0</td>\n",
       "      <td>jcrew</td>\n",
       "      <td>Our slim boyfriend jeans are tailored perfectl...</td>\n",
       "      <td>UNKNOWN_TOKEN</td>\n",
       "      <td>Slim boyfriend jean in hydrangea blue wash</td>\n",
       "    </tr>\n",
       "    <tr>\n",
       "      <th>...</th>\n",
       "      <td>...</td>\n",
       "      <td>...</td>\n",
       "      <td>...</td>\n",
       "      <td>...</td>\n",
       "      <td>...</td>\n",
       "    </tr>\n",
       "    <tr>\n",
       "      <th>12088</th>\n",
       "      <td>0</td>\n",
       "      <td>samedelman</td>\n",
       "      <td>A woven espadrille sole extends the chic, summ...</td>\n",
       "      <td>Runs large; order 1/2 size down.Textile or lea...</td>\n",
       "      <td>Krissy Espadrille Flat</td>\n",
       "    </tr>\n",
       "    <tr>\n",
       "      <th>12091</th>\n",
       "      <td>0</td>\n",
       "      <td>alo</td>\n",
       "      <td>Pintucked panels create a cool moto aesthetic ...</td>\n",
       "      <td>SIZE_VALUE, SIZE_VALUE, SIZE_VALUE, SIZE_VALUE...</td>\n",
       "      <td>High Waist Moto 7/8 Leggings</td>\n",
       "    </tr>\n",
       "    <tr>\n",
       "      <th>12092</th>\n",
       "      <td>0</td>\n",
       "      <td>thegreat</td>\n",
       "      <td>Puff sleeves, covered rouleau buttons and an o...</td>\n",
       "      <td>True to size.47\" length (size 1/4-6)Front butt...</td>\n",
       "      <td>The Ravine Cotton Midi Dress</td>\n",
       "    </tr>\n",
       "    <tr>\n",
       "      <th>12095</th>\n",
       "      <td>0</td>\n",
       "      <td>citizensofhumanity</td>\n",
       "      <td>Slim from the knee to the hems, these wear-wit...</td>\n",
       "      <td>If between sizes; order one size up. SIZEVALUE...</td>\n",
       "      <td>Elsa Slim Jeans</td>\n",
       "    </tr>\n",
       "    <tr>\n",
       "      <th>12096</th>\n",
       "      <td>0</td>\n",
       "      <td>simonmiller</td>\n",
       "      <td>Cinched at the natural waist and pleated for f...</td>\n",
       "      <td>True to size. SIZE_VALUE, SIZE_VALUE, SIZE_VAL...</td>\n",
       "      <td>Rost Belted Shorts</td>\n",
       "    </tr>\n",
       "  </tbody>\n",
       "</table>\n",
       "<p>3740 rows × 5 columns</p>\n",
       "</div>"
      ],
      "text/plain": [
       "       label               brand  \\\n",
       "0          0               jcrew   \n",
       "2          0               jcrew   \n",
       "7          0               jcrew   \n",
       "11         0               jcrew   \n",
       "17         0               jcrew   \n",
       "...      ...                 ...   \n",
       "12088      0          samedelman   \n",
       "12091      0                 alo   \n",
       "12092      0            thegreat   \n",
       "12095      0  citizensofhumanity   \n",
       "12096      0         simonmiller   \n",
       "\n",
       "                                             description  \\\n",
       "0      Your new wear-to-work essential, this roomy to...   \n",
       "2      A classic fall silhouette in a classic fall-fr...   \n",
       "7      Luxe doesn't even begin to describe this perfe...   \n",
       "11     When it comes to quality and color, no one doe...   \n",
       "17     Our slim boyfriend jeans are tailored perfectl...   \n",
       "...                                                  ...   \n",
       "12088  A woven espadrille sole extends the chic, summ...   \n",
       "12091  Pintucked panels create a cool moto aesthetic ...   \n",
       "12092  Puff sleeves, covered rouleau buttons and an o...   \n",
       "12095  Slim from the knee to the hems, these wear-wit...   \n",
       "12096  Cinched at the natural waist and pleated for f...   \n",
       "\n",
       "                                                 details  \\\n",
       "0                                          UNKNOWN_TOKEN   \n",
       "2                                          UNKNOWN_TOKEN   \n",
       "7                                          UNKNOWN_TOKEN   \n",
       "11                                         UNKNOWN_TOKEN   \n",
       "17                                         UNKNOWN_TOKEN   \n",
       "...                                                  ...   \n",
       "12088  Runs large; order 1/2 size down.Textile or lea...   \n",
       "12091  SIZE_VALUE, SIZE_VALUE, SIZE_VALUE, SIZE_VALUE...   \n",
       "12092  True to size.47\" length (size 1/4-6)Front butt...   \n",
       "12095  If between sizes; order one size up. SIZEVALUE...   \n",
       "12096  True to size. SIZE_VALUE, SIZE_VALUE, SIZE_VAL...   \n",
       "\n",
       "                                                    name  \n",
       "0                              Devon bonded leather tote  \n",
       "2      Fiona lace-up kitten heel ankle boots in black...  \n",
       "7      Collection fluted sheath dress in Ratti® climb...  \n",
       "11        Long-sleeve everyday cashmere mockneck sweater  \n",
       "17            Slim boyfriend jean in hydrangea blue wash  \n",
       "...                                                  ...  \n",
       "12088                             Krissy Espadrille Flat  \n",
       "12091                       High Waist Moto 7/8 Leggings  \n",
       "12092                       The Ravine Cotton Midi Dress  \n",
       "12095                                    Elsa Slim Jeans  \n",
       "12096                                 Rost Belted Shorts  \n",
       "\n",
       "[3740 rows x 5 columns]"
      ]
     },
     "execution_count": 57,
     "metadata": {},
     "output_type": "execute_result"
    }
   ],
   "source": [
    "ncw"
   ]
  },
  {
   "cell_type": "markdown",
   "metadata": {},
   "source": [
    "## Sample data"
   ]
  },
  {
   "cell_type": "markdown",
   "metadata": {},
   "source": [
    "### wkd"
   ]
  },
  {
   "cell_type": "code",
   "execution_count": 58,
   "metadata": {},
   "outputs": [],
   "source": [
    "from numpy import array\n",
    "from keras.preprocessing.text import one_hot\n",
    "from keras.preprocessing.sequence import pad_sequences\n",
    "from numpy import asarray\n",
    "from numpy import zeros\n",
    "from keras.preprocessing.text import Tokenizer\n",
    "from keras.models import Sequential\n",
    "from keras.layers import Dense\n",
    "from keras.layers import Flatten\n",
    "from keras.layers import Embedding\n",
    "from keras.utils import to_categorical\n",
    "from sklearn.preprocessing import LabelEncoder\n",
    "import spacy\n",
    "import en_core_web_md\n",
    "from sklearn.model_selection import train_test_split"
   ]
  },
  {
   "cell_type": "code",
   "execution_count": 59,
   "metadata": {},
   "outputs": [],
   "source": [
    "num_1 = len(wkd['description'])\n",
    "num_0 = len(nwkd['description'])\n",
    "docs = wkd['description'].tolist() + nwkd['description'].tolist()\n",
    "labels = np.concatenate([np.ones(num_1), np.zeros(num_0)])"
   ]
  },
  {
   "cell_type": "code",
   "execution_count": 60,
   "metadata": {},
   "outputs": [],
   "source": [
    "nlp = en_core_web_md.load()\n",
    "stopwords_removed_docs = list(\n",
    "    map(lambda doc: \" \".join([token.text for token in nlp(doc) if not token.is_stop]), docs))"
   ]
  },
  {
   "cell_type": "code",
   "execution_count": 61,
   "metadata": {},
   "outputs": [],
   "source": [
    "tokenizer = Tokenizer(num_words=5000, oov_token=\"UNKNOWN_TOKEN\")\n",
    "tokenizer.fit_on_texts(stopwords_removed_docs)"
   ]
  },
  {
   "cell_type": "code",
   "execution_count": 62,
   "metadata": {},
   "outputs": [],
   "source": [
    "def integer_encode_documents(docs, tokenizer):\n",
    "    return tokenizer.texts_to_sequences(docs)\n",
    "\n",
    "# integer encode the documents\n",
    "encoded_docs = integer_encode_documents(stopwords_removed_docs, tokenizer)\n",
    "# this is a list of lists, the numbers represent the index position of that word.\n",
    "MAX_SEQUENCE_LENGTH = len(max(stopwords_removed_docs,key=len))\n",
    "padded_docs = pad_sequences(encoded_docs, maxlen=MAX_SEQUENCE_LENGTH, padding='post')"
   ]
  },
  {
   "cell_type": "code",
   "execution_count": 63,
   "metadata": {},
   "outputs": [],
   "source": [
    "encoder = LabelEncoder()\n",
    "labels = to_categorical(encoder.fit_transform(labels))"
   ]
  },
  {
   "cell_type": "code",
   "execution_count": 64,
   "metadata": {},
   "outputs": [],
   "source": [
    "X_train, X_test, y_train, y_test = train_test_split(padded_docs, labels, test_size=0.2)"
   ]
  },
  {
   "cell_type": "code",
   "execution_count": 65,
   "metadata": {},
   "outputs": [
    {
     "data": {
      "text/plain": [
       "(3189, 862)"
      ]
     },
     "execution_count": 65,
     "metadata": {},
     "output_type": "execute_result"
    }
   ],
   "source": [
    "X_train.shape"
   ]
  },
  {
   "cell_type": "markdown",
   "metadata": {},
   "source": [
    "## Glove"
   ]
  },
  {
   "cell_type": "code",
   "execution_count": 66,
   "metadata": {},
   "outputs": [],
   "source": [
    "from random import randint\n",
    "from numpy import array, argmax, asarray, zeros\n",
    "from keras.models import Sequential\n",
    "from keras.layers import Dense\n",
    "from keras.layers import Embedding\n",
    "from keras import optimizers"
   ]
  },
  {
   "cell_type": "code",
   "execution_count": 67,
   "metadata": {},
   "outputs": [
    {
     "name": "stdout",
     "output_type": "stream",
     "text": [
      "Loaded 400000 word vectors.\n"
     ]
    }
   ],
   "source": [
    "def load_glove_vectors():\n",
    "    embeddings_index = {}\n",
    "    with open('glove.6B.100d.txt') as f:\n",
    "        for line in f:\n",
    "            values = line.split()\n",
    "            word = values[0]\n",
    "            coefs = asarray(values[1:], dtype='float32')\n",
    "            embeddings_index[word] = coefs\n",
    "    print('Loaded %s word vectors.' % len(embeddings_index))\n",
    "    return embeddings_index\n",
    "\n",
    "\n",
    "embeddings_index = load_glove_vectors()"
   ]
  },
  {
   "cell_type": "code",
   "execution_count": 71,
   "metadata": {},
   "outputs": [],
   "source": [
    "VOCAB_SIZE = int(len(tokenizer.word_index) * 1.1)\n",
    "MAX_SEQUENCE_LENGTH = len(max(stopwords_removed_docs,key=len))"
   ]
  },
  {
   "cell_type": "code",
   "execution_count": 72,
   "metadata": {},
   "outputs": [
    {
     "data": {
      "text/plain": [
       "862"
      ]
     },
     "execution_count": 72,
     "metadata": {},
     "output_type": "execute_result"
    }
   ],
   "source": [
    "MAX_SEQUENCE_LENGTH"
   ]
  },
  {
   "cell_type": "code",
   "execution_count": 69,
   "metadata": {},
   "outputs": [],
   "source": [
    "embedding_matrix = zeros((VOCAB_SIZE, 100))\n",
    "for word, i in tokenizer.word_index.items():\n",
    "    embedding_vector = embeddings_index.get(word)\n",
    "    if embedding_vector is not None: # check that it is an actual word that we have embeddings for\n",
    "        embedding_matrix[i] = embedding_vector"
   ]
  },
  {
   "cell_type": "code",
   "execution_count": 70,
   "metadata": {},
   "outputs": [
    {
     "data": {
      "text/plain": [
       "(6372, 100)"
      ]
     },
     "execution_count": 70,
     "metadata": {},
     "output_type": "execute_result"
    }
   ],
   "source": [
    "embedding_matrix.shape"
   ]
  },
  {
   "cell_type": "code",
   "execution_count": 30,
   "metadata": {},
   "outputs": [],
   "source": [
    "from keras.layers.recurrent import SimpleRNN, LSTM\n",
    "from keras.layers import Flatten, Masking\n",
    "# define model\n",
    "\n",
    "def make_binary_classification_rnn_model(plot=False):\n",
    "    model = Sequential()\n",
    "    # embedding(input_dim, output_dim)\n",
    "    model.add(Embedding(VOCAB_SIZE, 100, weights=[embedding_matrix], input_length=MAX_SEQUENCE_LENGTH, trainable=False))\n",
    "    model.add(Masking(mask_value=0.0)) # masking layer, masks any words that don't have an embedding as 0s.\n",
    "    model.add(SimpleRNN(units=32, input_shape=(1, MAX_SEQUENCE_LENGTH))) # set hidden state dimensionality to 64\n",
    "    model.add(Dense(16))\n",
    "    model.add(Dense(2, activation='softmax')) # 2 nodes, prediction for positive/negative, two classes\n",
    "    \n",
    "    # Compile the model\n",
    "    model.compile(\n",
    "    optimizer='adam', loss='categorical_crossentropy', metrics=['accuracy'])\n",
    "    # summarize the model\n",
    "    model.summary()\n",
    "    \n",
    "    if plot:\n",
    "        plot_model(model, to_file='model.png', show_shapes=True)\n",
    "    return model\n",
    "\n",
    "def make_lstm_classification_model(plot=False):\n",
    "    model = Sequential()\n",
    "    model.add(Embedding(VOCAB_SIZE, 100, weights=[embedding_matrix], input_length=MAX_SEQUENCE_LENGTH, trainable=False))\n",
    "    model.add(Masking(mask_value=0.0)) # masking layer, masks any words that don't have an embedding as 0s.\n",
    "    model.add(LSTM(units=32, input_shape=(1, MAX_SEQUENCE_LENGTH)))\n",
    "    model.add(Dense(16))\n",
    "    model.add(Dense(2, activation='softmax'))\n",
    "    \n",
    "    opt = optimizers.Adam(learning_rate=0.001, beta_1=0.9, beta_2=0.999, amsgrad=False)\n",
    "    # Compile the model\n",
    "    model.compile(\n",
    "    optimizer=opt, loss='categorical_crossentropy', metrics=['accuracy'])\n",
    "    # summarize the model\n",
    "    model.summary()\n",
    "    \n",
    "    if plot:\n",
    "        plot_model(model, to_file='model.png', show_shapes=True)\n",
    "    return model"
   ]
  },
  {
   "cell_type": "code",
   "execution_count": 31,
   "metadata": {},
   "outputs": [
    {
     "name": "stdout",
     "output_type": "stream",
     "text": [
      "Model: \"sequential_1\"\n",
      "_________________________________________________________________\n",
      "Layer (type)                 Output Shape              Param #   \n",
      "=================================================================\n",
      "embedding_1 (Embedding)      (None, 862, 100)          637200    \n",
      "_________________________________________________________________\n",
      "masking_1 (Masking)          (None, 862, 100)          0         \n",
      "_________________________________________________________________\n",
      "lstm_1 (LSTM)                (None, 32)                17024     \n",
      "_________________________________________________________________\n",
      "dense_1 (Dense)              (None, 16)                528       \n",
      "_________________________________________________________________\n",
      "dense_2 (Dense)              (None, 2)                 34        \n",
      "=================================================================\n",
      "Total params: 654,786\n",
      "Trainable params: 17,586\n",
      "Non-trainable params: 637,200\n",
      "_________________________________________________________________\n"
     ]
    }
   ],
   "source": [
    "MAX_SEQUENCE_LENGTH = len(max(stopwords_removed_docs,key=len))\n",
    "model = make_lstm_classification_model()\n",
    "#model = make_binary_classification_rnn_model()"
   ]
  },
  {
   "cell_type": "code",
   "execution_count": 32,
   "metadata": {
    "scrolled": true
   },
   "outputs": [
    {
     "name": "stdout",
     "output_type": "stream",
     "text": [
      "Train on 2870 samples, validate on 319 samples\n",
      "Epoch 1/25\n",
      "2870/2870 [==============================] - 83s 29ms/step - loss: 0.5644 - accuracy: 0.7481 - val_loss: 0.5409 - val_accuracy: 0.7618\n",
      "Epoch 2/25\n",
      "2870/2870 [==============================] - 96s 34ms/step - loss: 0.5325 - accuracy: 0.7617 - val_loss: 0.5318 - val_accuracy: 0.7618\n",
      "Epoch 3/25\n",
      "2870/2870 [==============================] - 78s 27ms/step - loss: 0.5073 - accuracy: 0.7693 - val_loss: 0.5124 - val_accuracy: 0.7555\n",
      "Epoch 4/25\n",
      "2870/2870 [==============================] - 70s 24ms/step - loss: 0.4719 - accuracy: 0.7871 - val_loss: 0.5031 - val_accuracy: 0.7429\n",
      "Epoch 5/25\n",
      "2870/2870 [==============================] - 67s 23ms/step - loss: 0.4530 - accuracy: 0.7899 - val_loss: 0.4959 - val_accuracy: 0.7618\n",
      "Epoch 6/25\n",
      "2870/2870 [==============================] - 82s 29ms/step - loss: 0.4231 - accuracy: 0.8059 - val_loss: 0.4900 - val_accuracy: 0.7680\n",
      "Epoch 7/25\n",
      "2870/2870 [==============================] - 76s 27ms/step - loss: 0.3925 - accuracy: 0.8233 - val_loss: 0.5079 - val_accuracy: 0.7680\n",
      "Epoch 8/25\n",
      "2870/2870 [==============================] - 72s 25ms/step - loss: 0.3654 - accuracy: 0.8418 - val_loss: 0.5077 - val_accuracy: 0.7555\n",
      "Epoch 9/25\n",
      "2870/2870 [==============================] - 73s 25ms/step - loss: 0.3349 - accuracy: 0.8606 - val_loss: 0.5685 - val_accuracy: 0.7618\n",
      "Epoch 10/25\n",
      "2870/2870 [==============================] - 69s 24ms/step - loss: 0.2954 - accuracy: 0.8774 - val_loss: 0.6061 - val_accuracy: 0.7492\n",
      "Epoch 11/25\n",
      "2870/2870 [==============================] - 67s 23ms/step - loss: 0.2794 - accuracy: 0.8840 - val_loss: 0.6062 - val_accuracy: 0.7273\n",
      "Epoch 12/25\n",
      "2870/2870 [==============================] - 66s 23ms/step - loss: 0.2352 - accuracy: 0.9073 - val_loss: 0.6844 - val_accuracy: 0.7053\n",
      "Epoch 13/25\n",
      "2870/2870 [==============================] - 70s 24ms/step - loss: 0.2066 - accuracy: 0.9223 - val_loss: 0.6694 - val_accuracy: 0.7179\n",
      "Epoch 14/25\n",
      "2870/2870 [==============================] - 73s 25ms/step - loss: 0.1777 - accuracy: 0.9321 - val_loss: 0.8254 - val_accuracy: 0.7304\n",
      "Epoch 15/25\n",
      "2870/2870 [==============================] - 72s 25ms/step - loss: 0.1583 - accuracy: 0.9418 - val_loss: 0.8852 - val_accuracy: 0.7210\n",
      "Epoch 16/25\n",
      "2870/2870 [==============================] - 77s 27ms/step - loss: 0.1353 - accuracy: 0.9537 - val_loss: 1.0042 - val_accuracy: 0.7304\n",
      "Epoch 17/25\n",
      "2870/2870 [==============================] - 72s 25ms/step - loss: 0.1229 - accuracy: 0.9610 - val_loss: 1.0792 - val_accuracy: 0.7367\n",
      "Epoch 18/25\n",
      "2870/2870 [==============================] - 76s 26ms/step - loss: 0.1297 - accuracy: 0.9530 - val_loss: 1.0118 - val_accuracy: 0.7241\n",
      "Epoch 19/25\n",
      "2870/2870 [==============================] - 77s 27ms/step - loss: 0.1033 - accuracy: 0.9641 - val_loss: 1.1337 - val_accuracy: 0.7210\n",
      "Epoch 20/25\n",
      "2870/2870 [==============================] - 72s 25ms/step - loss: 0.0976 - accuracy: 0.9659 - val_loss: 1.0714 - val_accuracy: 0.7367\n",
      "Epoch 21/25\n",
      "2870/2870 [==============================] - 69s 24ms/step - loss: 0.0984 - accuracy: 0.9617 - val_loss: 1.1654 - val_accuracy: 0.7147\n",
      "Epoch 22/25\n",
      "2870/2870 [==============================] - 70s 24ms/step - loss: 0.0914 - accuracy: 0.9662 - val_loss: 1.1512 - val_accuracy: 0.7179\n",
      "Epoch 23/25\n",
      "2870/2870 [==============================] - 69s 24ms/step - loss: 0.0988 - accuracy: 0.9659 - val_loss: 1.1822 - val_accuracy: 0.7241\n",
      "Epoch 24/25\n",
      "2870/2870 [==============================] - 69s 24ms/step - loss: 0.0809 - accuracy: 0.9721 - val_loss: 1.2253 - val_accuracy: 0.7304\n",
      "Epoch 25/25\n",
      "2870/2870 [==============================] - 72s 25ms/step - loss: 0.0782 - accuracy: 0.9725 - val_loss: 1.3347 - val_accuracy: 0.7367\n"
     ]
    }
   ],
   "source": [
    "history = model.fit(X_train, y_train,validation_split = 0.1, epochs=25, verbose=1)"
   ]
  },
  {
   "cell_type": "code",
   "execution_count": 33,
   "metadata": {},
   "outputs": [
    {
     "data": {
      "image/png": "[encoded data removed]",
      "text/plain": [
       "<Figure size 432x288 with 1 Axes>"
      ]
     },
     "metadata": {
      "needs_background": "light"
     },
     "output_type": "display_data"
    }
   ],
   "source": [
    "import keras\n",
    "from matplotlib import pyplot as plt\n",
    "\n",
    "def plot_fit_history(history):\n",
    "    plt.plot(history.history['accuracy'])\n",
    "    plt.plot(history.history['val_accuracy'])\n",
    "    plt.title('model accuracy')\n",
    "    plt.ylabel('accuracy')\n",
    "    plt.xlabel('epoch')\n",
    "    plt.legend(['train', 'val'], loc='upper left')\n",
    "    plt.show()\n",
    "plot_fit_history(history)"
   ]
  },
  {
   "cell_type": "code",
   "execution_count": 34,
   "metadata": {},
   "outputs": [
    {
     "name": "stdout",
     "output_type": "stream",
     "text": [
      "798/798 [==============================] - 4s 5ms/step\n",
      "Accuracy: 75.939852\n"
     ]
    }
   ],
   "source": [
    "loss, accuracy = model.evaluate(X_test, y_test, verbose=1)\n",
    "print('Accuracy: %f' % (accuracy*100))"
   ]
  },
  {
   "cell_type": "markdown",
   "metadata": {},
   "source": [
    "## Train own embedding"
   ]
  },
  {
   "cell_type": "code",
   "execution_count": 156,
   "metadata": {},
   "outputs": [],
   "source": [
    "num_1 = len(wkd['description'])\n",
    "num_0 = len(nwkd['description'])\n",
    "docs = wkd['description'].tolist() + nwkd['description'].tolist()\n",
    "labels = np.concatenate([np.ones(num_1), np.zeros(num_0)])"
   ]
  },
  {
   "cell_type": "code",
   "execution_count": 157,
   "metadata": {},
   "outputs": [],
   "source": [
    "nlp = en_core_web_md.load()\n",
    "stopwords_removed_docs = list(\n",
    "    map(lambda doc: \" \".join([token.text for token in nlp(doc) if not token.is_stop]), docs))"
   ]
  },
  {
   "cell_type": "code",
   "execution_count": 158,
   "metadata": {},
   "outputs": [],
   "source": [
    "def integer_encode_documents(docs, tokenizer):\n",
    "    return tokenizer.texts_to_sequences(docs)\n",
    "\n",
    "\n",
    "vocab_size = 5000\n",
    "MAX_SEQUENCE_LENGTH = len(max(stopwords_removed_docs,key=len))\n",
    "EMBEDDING_SIZE = 100\n",
    "\n",
    "\n",
    "tokenizer = Tokenizer()\n",
    "tokenizer.fit_on_texts(stopwords_removed_docs)\n",
    "encoded_docs = integer_encode_documents(stopwords_removed_docs, tokenizer)\n",
    "padded_docs = pad_sequences(encoded_docs, maxlen=MAX_SEQUENCE_LENGTH, padding='post')\n",
    "\n",
    "encoder = LabelEncoder()\n",
    "labels = to_categorical(encoder.fit_transform(labels))\n",
    "X_train, X_test, y_train, y_test = train_test_split(padded_docs, labels, test_size=0.2)"
   ]
  },
  {
   "cell_type": "code",
   "execution_count": 159,
   "metadata": {},
   "outputs": [
    {
     "name": "stdout",
     "output_type": "stream",
     "text": [
      "Model: \"sequential_14\"\n",
      "_________________________________________________________________\n",
      "Layer (type)                 Output Shape              Param #   \n",
      "=================================================================\n",
      "embedding_14 (Embedding)     (None, 862, 100)          40000000  \n",
      "_________________________________________________________________\n",
      "masking_14 (Masking)         (None, 862, 100)          0         \n",
      "_________________________________________________________________\n",
      "lstm_12 (LSTM)               (None, 32)                17024     \n",
      "_________________________________________________________________\n",
      "dense_27 (Dense)             (None, 16)                528       \n",
      "_________________________________________________________________\n",
      "dense_28 (Dense)             (None, 2)                 34        \n",
      "=================================================================\n",
      "Total params: 40,017,586\n",
      "Trainable params: 17,586\n",
      "Non-trainable params: 40,000,000\n",
      "_________________________________________________________________\n"
     ]
    }
   ],
   "source": [
    "model = make_lstm_classification_model()"
   ]
  },
  {
   "cell_type": "code",
   "execution_count": 160,
   "metadata": {
    "scrolled": true
   },
   "outputs": [
    {
     "name": "stdout",
     "output_type": "stream",
     "text": [
      "Train on 2870 samples, validate on 319 samples\n",
      "Epoch 1/25\n",
      "2870/2870 [==============================] - 69s 24ms/step - loss: 0.5740 - accuracy: 0.7314 - val_loss: 0.5516 - val_accuracy: 0.7586\n",
      "Epoch 2/25\n",
      "2870/2870 [==============================] - 63s 22ms/step - loss: 0.5368 - accuracy: 0.7624 - val_loss: 0.5519 - val_accuracy: 0.7586\n",
      "Epoch 3/25\n",
      "2870/2870 [==============================] - 63s 22ms/step - loss: 0.5224 - accuracy: 0.7627 - val_loss: 0.5521 - val_accuracy: 0.7586\n",
      "Epoch 4/25\n",
      "2870/2870 [==============================] - 66s 23ms/step - loss: 0.5059 - accuracy: 0.7655 - val_loss: 0.5649 - val_accuracy: 0.7586\n",
      "Epoch 5/25\n",
      "2870/2870 [==============================] - 67s 23ms/step - loss: 0.4860 - accuracy: 0.7791 - val_loss: 0.5590 - val_accuracy: 0.7680\n",
      "Epoch 6/25\n",
      "2870/2870 [==============================] - 66s 23ms/step - loss: 0.4541 - accuracy: 0.7941 - val_loss: 0.5754 - val_accuracy: 0.7618\n",
      "Epoch 7/25\n",
      "2870/2870 [==============================] - 68s 24ms/step - loss: 0.4238 - accuracy: 0.8129 - val_loss: 0.5790 - val_accuracy: 0.7649\n",
      "Epoch 8/25\n",
      "2870/2870 [==============================] - 68s 24ms/step - loss: 0.3864 - accuracy: 0.8373 - val_loss: 0.5748 - val_accuracy: 0.7618\n",
      "Epoch 9/25\n",
      "2870/2870 [==============================] - 69s 24ms/step - loss: 0.3450 - accuracy: 0.8592 - val_loss: 0.6167 - val_accuracy: 0.7179\n",
      "Epoch 10/25\n",
      "2870/2870 [==============================] - 73s 25ms/step - loss: 0.2953 - accuracy: 0.8791 - val_loss: 0.6553 - val_accuracy: 0.7398\n",
      "Epoch 11/25\n",
      "2870/2870 [==============================] - 80s 28ms/step - loss: 0.2651 - accuracy: 0.8927 - val_loss: 0.6742 - val_accuracy: 0.7116\n",
      "Epoch 12/25\n",
      "2870/2870 [==============================] - 77s 27ms/step - loss: 0.2183 - accuracy: 0.9136 - val_loss: 0.7108 - val_accuracy: 0.7555\n",
      "Epoch 13/25\n",
      "2870/2870 [==============================] - 71s 25ms/step - loss: 0.1803 - accuracy: 0.9341 - val_loss: 0.7546 - val_accuracy: 0.7147\n",
      "Epoch 14/25\n",
      "2870/2870 [==============================] - 69s 24ms/step - loss: 0.1590 - accuracy: 0.9418 - val_loss: 0.8867 - val_accuracy: 0.6897\n",
      "Epoch 15/25\n",
      "2870/2870 [==============================] - 68s 24ms/step - loss: 0.1268 - accuracy: 0.9561 - val_loss: 0.8194 - val_accuracy: 0.7461\n",
      "Epoch 16/25\n",
      "2870/2870 [==============================] - 69s 24ms/step - loss: 0.1257 - accuracy: 0.9578 - val_loss: 0.9758 - val_accuracy: 0.7053\n",
      "Epoch 17/25\n",
      "2870/2870 [==============================] - 67s 23ms/step - loss: 0.1065 - accuracy: 0.9620 - val_loss: 0.9319 - val_accuracy: 0.7053\n",
      "Epoch 18/25\n",
      "2870/2870 [==============================] - 71s 25ms/step - loss: 0.0991 - accuracy: 0.9669 - val_loss: 1.0800 - val_accuracy: 0.7649\n",
      "Epoch 19/25\n",
      "2870/2870 [==============================] - 63s 22ms/step - loss: 0.0997 - accuracy: 0.9655 - val_loss: 1.0225 - val_accuracy: 0.7179\n",
      "Epoch 20/25\n",
      "2870/2870 [==============================] - 62s 22ms/step - loss: 0.0875 - accuracy: 0.9704 - val_loss: 1.4203 - val_accuracy: 0.6583\n",
      "Epoch 21/25\n",
      "2870/2870 [==============================] - 62s 22ms/step - loss: 0.0979 - accuracy: 0.9666 - val_loss: 1.2812 - val_accuracy: 0.7273\n",
      "Epoch 22/25\n",
      "2870/2870 [==============================] - 62s 22ms/step - loss: 0.0807 - accuracy: 0.9725 - val_loss: 1.1988 - val_accuracy: 0.7429\n",
      "Epoch 23/25\n",
      "2870/2870 [==============================] - 62s 22ms/step - loss: 0.0825 - accuracy: 0.9704 - val_loss: 1.1696 - val_accuracy: 0.7210\n",
      "Epoch 24/25\n",
      "2870/2870 [==============================] - 62s 22ms/step - loss: 0.0758 - accuracy: 0.9760 - val_loss: 1.2664 - val_accuracy: 0.7429\n",
      "Epoch 25/25\n",
      "2870/2870 [==============================] - 62s 22ms/step - loss: 0.0817 - accuracy: 0.9753 - val_loss: 1.2261 - val_accuracy: 0.7304\n"
     ]
    }
   ],
   "source": [
    "history = model.fit(X_train, y_train,validation_split = 0.1, epochs=25, verbose=1)"
   ]
  },
  {
   "cell_type": "code",
   "execution_count": 161,
   "metadata": {},
   "outputs": [
    {
     "data": {
      "image/png": "[encoded data removed]",
      "text/plain": [
       "<Figure size 432x288 with 1 Axes>"
      ]
     },
     "metadata": {
      "needs_background": "light"
     },
     "output_type": "display_data"
    }
   ],
   "source": [
    "plot_fit_history(history)"
   ]
  },
  {
   "cell_type": "code",
   "execution_count": 162,
   "metadata": {},
   "outputs": [
    {
     "name": "stdout",
     "output_type": "stream",
     "text": [
      "798/798 [==============================] - 3s 4ms/step\n",
      "Accuracy: 72.180450\n"
     ]
    }
   ],
   "source": [
    "loss, accuracy = model.evaluate(X_test, y_test, verbose=1)\n",
    "print('Accuracy: %f' % (accuracy*100))"
   ]
  },
  {
   "cell_type": "code",
   "execution_count": null,
   "metadata": {},
   "outputs": [],
   "source": []
  }
 ],
 "metadata": {
  "kernelspec": {
   "display_name": "Python [conda env:DSO570]",
   "language": "python",
   "name": "conda-env-DSO570-py"
  },
  "language_info": {
   "codemirror_mode": {
    "name": "ipython",
    "version": 3
   },
   "file_extension": ".py",
   "mimetype": "text/x-python",
   "name": "python",
   "nbconvert_exporter": "python",
   "pygments_lexer": "ipython3",
   "version": "3.7.6"
  }
 },
 "nbformat": 4,
 "nbformat_minor": 2
}
